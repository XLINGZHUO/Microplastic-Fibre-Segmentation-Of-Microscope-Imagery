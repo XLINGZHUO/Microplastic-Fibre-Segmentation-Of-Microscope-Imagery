{
  "nbformat": 4,
  "nbformat_minor": 0,
  "metadata": {
    "colab": {
      "provenance": []
    },
    "kernelspec": {
      "name": "python3",
      "display_name": "Python 3"
    },
    "language_info": {
      "name": "python"
    }
  },
  "cells": [
    {
      "cell_type": "markdown",
      "source": [
        "# 上传mask文件夹"
      ],
      "metadata": {
        "id": "jDMBM_hJZEZY"
      }
    },
    {
      "cell_type": "code",
      "source": [
        "from google.colab import files\n",
        "\n",
        "uploaded = files.upload()"
      ],
      "metadata": {
        "colab": {
          "base_uri": "https://localhost:8080/",
          "height": 75
        },
        "id": "qfDRwTZ3ZHKI",
        "outputId": "aa399fc8-09c8-4389-d927-af6499b3fe8c"
      },
      "execution_count": null,
      "outputs": [
        {
          "output_type": "display_data",
          "data": {
            "text/plain": [
              "<IPython.core.display.HTML object>"
            ],
            "text/html": [
              "\n",
              "     <input type=\"file\" id=\"files-ea7adca1-9a55-44dd-b7ae-529f31c7ac03\" name=\"files[]\" multiple disabled\n",
              "        style=\"border:none\" />\n",
              "     <output id=\"result-ea7adca1-9a55-44dd-b7ae-529f31c7ac03\">\n",
              "      Upload widget is only available when the cell has been executed in the\n",
              "      current browser session. Please rerun this cell to enable.\n",
              "      </output>\n",
              "      <script>// Copyright 2017 Google LLC\n",
              "//\n",
              "// Licensed under the Apache License, Version 2.0 (the \"License\");\n",
              "// you may not use this file except in compliance with the License.\n",
              "// You may obtain a copy of the License at\n",
              "//\n",
              "//      http://www.apache.org/licenses/LICENSE-2.0\n",
              "//\n",
              "// Unless required by applicable law or agreed to in writing, software\n",
              "// distributed under the License is distributed on an \"AS IS\" BASIS,\n",
              "// WITHOUT WARRANTIES OR CONDITIONS OF ANY KIND, either express or implied.\n",
              "// See the License for the specific language governing permissions and\n",
              "// limitations under the License.\n",
              "\n",
              "/**\n",
              " * @fileoverview Helpers for google.colab Python module.\n",
              " */\n",
              "(function(scope) {\n",
              "function span(text, styleAttributes = {}) {\n",
              "  const element = document.createElement('span');\n",
              "  element.textContent = text;\n",
              "  for (const key of Object.keys(styleAttributes)) {\n",
              "    element.style[key] = styleAttributes[key];\n",
              "  }\n",
              "  return element;\n",
              "}\n",
              "\n",
              "// Max number of bytes which will be uploaded at a time.\n",
              "const MAX_PAYLOAD_SIZE = 100 * 1024;\n",
              "\n",
              "function _uploadFiles(inputId, outputId) {\n",
              "  const steps = uploadFilesStep(inputId, outputId);\n",
              "  const outputElement = document.getElementById(outputId);\n",
              "  // Cache steps on the outputElement to make it available for the next call\n",
              "  // to uploadFilesContinue from Python.\n",
              "  outputElement.steps = steps;\n",
              "\n",
              "  return _uploadFilesContinue(outputId);\n",
              "}\n",
              "\n",
              "// This is roughly an async generator (not supported in the browser yet),\n",
              "// where there are multiple asynchronous steps and the Python side is going\n",
              "// to poll for completion of each step.\n",
              "// This uses a Promise to block the python side on completion of each step,\n",
              "// then passes the result of the previous step as the input to the next step.\n",
              "function _uploadFilesContinue(outputId) {\n",
              "  const outputElement = document.getElementById(outputId);\n",
              "  const steps = outputElement.steps;\n",
              "\n",
              "  const next = steps.next(outputElement.lastPromiseValue);\n",
              "  return Promise.resolve(next.value.promise).then((value) => {\n",
              "    // Cache the last promise value to make it available to the next\n",
              "    // step of the generator.\n",
              "    outputElement.lastPromiseValue = value;\n",
              "    return next.value.response;\n",
              "  });\n",
              "}\n",
              "\n",
              "/**\n",
              " * Generator function which is called between each async step of the upload\n",
              " * process.\n",
              " * @param {string} inputId Element ID of the input file picker element.\n",
              " * @param {string} outputId Element ID of the output display.\n",
              " * @return {!Iterable<!Object>} Iterable of next steps.\n",
              " */\n",
              "function* uploadFilesStep(inputId, outputId) {\n",
              "  const inputElement = document.getElementById(inputId);\n",
              "  inputElement.disabled = false;\n",
              "\n",
              "  const outputElement = document.getElementById(outputId);\n",
              "  outputElement.innerHTML = '';\n",
              "\n",
              "  const pickedPromise = new Promise((resolve) => {\n",
              "    inputElement.addEventListener('change', (e) => {\n",
              "      resolve(e.target.files);\n",
              "    });\n",
              "  });\n",
              "\n",
              "  const cancel = document.createElement('button');\n",
              "  inputElement.parentElement.appendChild(cancel);\n",
              "  cancel.textContent = 'Cancel upload';\n",
              "  const cancelPromise = new Promise((resolve) => {\n",
              "    cancel.onclick = () => {\n",
              "      resolve(null);\n",
              "    };\n",
              "  });\n",
              "\n",
              "  // Wait for the user to pick the files.\n",
              "  const files = yield {\n",
              "    promise: Promise.race([pickedPromise, cancelPromise]),\n",
              "    response: {\n",
              "      action: 'starting',\n",
              "    }\n",
              "  };\n",
              "\n",
              "  cancel.remove();\n",
              "\n",
              "  // Disable the input element since further picks are not allowed.\n",
              "  inputElement.disabled = true;\n",
              "\n",
              "  if (!files) {\n",
              "    return {\n",
              "      response: {\n",
              "        action: 'complete',\n",
              "      }\n",
              "    };\n",
              "  }\n",
              "\n",
              "  for (const file of files) {\n",
              "    const li = document.createElement('li');\n",
              "    li.append(span(file.name, {fontWeight: 'bold'}));\n",
              "    li.append(span(\n",
              "        `(${file.type || 'n/a'}) - ${file.size} bytes, ` +\n",
              "        `last modified: ${\n",
              "            file.lastModifiedDate ? file.lastModifiedDate.toLocaleDateString() :\n",
              "                                    'n/a'} - `));\n",
              "    const percent = span('0% done');\n",
              "    li.appendChild(percent);\n",
              "\n",
              "    outputElement.appendChild(li);\n",
              "\n",
              "    const fileDataPromise = new Promise((resolve) => {\n",
              "      const reader = new FileReader();\n",
              "      reader.onload = (e) => {\n",
              "        resolve(e.target.result);\n",
              "      };\n",
              "      reader.readAsArrayBuffer(file);\n",
              "    });\n",
              "    // Wait for the data to be ready.\n",
              "    let fileData = yield {\n",
              "      promise: fileDataPromise,\n",
              "      response: {\n",
              "        action: 'continue',\n",
              "      }\n",
              "    };\n",
              "\n",
              "    // Use a chunked sending to avoid message size limits. See b/62115660.\n",
              "    let position = 0;\n",
              "    do {\n",
              "      const length = Math.min(fileData.byteLength - position, MAX_PAYLOAD_SIZE);\n",
              "      const chunk = new Uint8Array(fileData, position, length);\n",
              "      position += length;\n",
              "\n",
              "      const base64 = btoa(String.fromCharCode.apply(null, chunk));\n",
              "      yield {\n",
              "        response: {\n",
              "          action: 'append',\n",
              "          file: file.name,\n",
              "          data: base64,\n",
              "        },\n",
              "      };\n",
              "\n",
              "      let percentDone = fileData.byteLength === 0 ?\n",
              "          100 :\n",
              "          Math.round((position / fileData.byteLength) * 100);\n",
              "      percent.textContent = `${percentDone}% done`;\n",
              "\n",
              "    } while (position < fileData.byteLength);\n",
              "  }\n",
              "\n",
              "  // All done.\n",
              "  yield {\n",
              "    response: {\n",
              "      action: 'complete',\n",
              "    }\n",
              "  };\n",
              "}\n",
              "\n",
              "scope.google = scope.google || {};\n",
              "scope.google.colab = scope.google.colab || {};\n",
              "scope.google.colab._files = {\n",
              "  _uploadFiles,\n",
              "  _uploadFilesContinue,\n",
              "};\n",
              "})(self);\n",
              "</script> "
            ]
          },
          "metadata": {}
        },
        {
          "output_type": "stream",
          "name": "stdout",
          "text": [
            "Saving test.zip to test.zip\n"
          ]
        }
      ]
    },
    {
      "cell_type": "code",
      "source": [
        "import zipfile\n",
        "\n",
        "zip_file_name = \"test1.zip\" # image原图像 mask真实值 test合成图像\n",
        "\n",
        "with zipfile.ZipFile(zip_file_name, 'r') as zip_ref:\n",
        "    zip_ref.extractall()"
      ],
      "metadata": {
        "id": "p0ndqPPEZRPI"
      },
      "execution_count": null,
      "outputs": []
    },
    {
      "cell_type": "markdown",
      "source": [
        "# 保存mask"
      ],
      "metadata": {
        "id": "z6Kzt2ohZQmf"
      }
    },
    {
      "cell_type": "code",
      "source": [
        "from PIL import Image\n",
        "import os\n",
        "\n",
        "# 指定mask文件夹路径\n",
        "mask_folder_path = \"mask_new/\"  # 根据你实际上传的路径进行修改\n",
        "i = 0\n",
        "\n",
        "# 遍历mask文件夹及其子文件夹中所有文件\n",
        "for root, dirs, files in os.walk(mask_folder_path):\n",
        "    for file in files:\n",
        "        # 判断文件是否为图片文件（可以根据实际需要添加其他图片格式的判断）\n",
        "        if file.endswith((\".png\", \".jpg\", \".jpeg\", \".bmp\")):\n",
        "            image_path = os.path.join(root, file)\n",
        "            img = Image.open(image_path)\n",
        "\n",
        "            # 将图片转换为灰度图像\n",
        "            img_gray = img.convert(\"L\")\n",
        "\n",
        "            # 将灰度图像转换为二值化图像\n",
        "            img_binary = img_gray.point(lambda x: 0 if x < 64 else 255, '1')\n",
        "\n",
        "            # 将二值化图像转换为RGB图像\n",
        "            img_rgb = img_binary.convert(\"RGB\")\n",
        "\n",
        "            # 保存处理后的图片，覆盖原来的图片\n",
        "            img_rgb.save(image_path)\n",
        "            i = i + 1\n",
        "print(i)\n",
        "print(\"图片处理完成！\")"
      ],
      "metadata": {
        "colab": {
          "base_uri": "https://localhost:8080/"
        },
        "id": "wJuF4aJ9ZlhN",
        "outputId": "c65b7167-36d3-4f56-fef4-26bb3efa310a"
      },
      "execution_count": null,
      "outputs": [
        {
          "output_type": "stream",
          "name": "stdout",
          "text": [
            "63\n",
            "图片处理完成！\n"
          ]
        }
      ]
    },
    {
      "cell_type": "markdown",
      "source": [
        "保存的mask为二值图像"
      ],
      "metadata": {
        "id": "CKKg-F_qZ1GL"
      }
    },
    {
      "cell_type": "markdown",
      "source": [
        "# 下载mask"
      ],
      "metadata": {
        "id": "QPifjMu8Z9fH"
      }
    },
    {
      "cell_type": "code",
      "source": [
        "import shutil\n",
        "\n",
        "# 指定要下载的文件夹路径\n",
        "mask_folder_path = \"mask01\"  # 根据你实际的文件夹路径进行修改\n",
        "\n",
        "# 指定zip文件名\n",
        "zip_file_name = \"mask01.zip\"\n",
        "\n",
        "# 将文件夹打包成zip文件\n",
        "shutil.make_archive(\"mask01\", 'zip', mask_folder_path)\n",
        "\n",
        "from google.colab import files\n",
        "\n",
        "# 下载zip文件\n",
        "files.download(zip_file_name)"
      ],
      "metadata": {
        "colab": {
          "base_uri": "https://localhost:8080/",
          "height": 17
        },
        "id": "b0Ki1z6kZ2gH",
        "outputId": "5f9cd2f7-fda7-4bf5-ba65-8c24a14d355e"
      },
      "execution_count": null,
      "outputs": [
        {
          "output_type": "display_data",
          "data": {
            "text/plain": [
              "<IPython.core.display.Javascript object>"
            ],
            "application/javascript": [
              "\n",
              "    async function download(id, filename, size) {\n",
              "      if (!google.colab.kernel.accessAllowed) {\n",
              "        return;\n",
              "      }\n",
              "      const div = document.createElement('div');\n",
              "      const label = document.createElement('label');\n",
              "      label.textContent = `Downloading \"${filename}\": `;\n",
              "      div.appendChild(label);\n",
              "      const progress = document.createElement('progress');\n",
              "      progress.max = size;\n",
              "      div.appendChild(progress);\n",
              "      document.body.appendChild(div);\n",
              "\n",
              "      const buffers = [];\n",
              "      let downloaded = 0;\n",
              "\n",
              "      const channel = await google.colab.kernel.comms.open(id);\n",
              "      // Send a message to notify the kernel that we're ready.\n",
              "      channel.send({})\n",
              "\n",
              "      for await (const message of channel.messages) {\n",
              "        // Send a message to notify the kernel that we're ready.\n",
              "        channel.send({})\n",
              "        if (message.buffers) {\n",
              "          for (const buffer of message.buffers) {\n",
              "            buffers.push(buffer);\n",
              "            downloaded += buffer.byteLength;\n",
              "            progress.value = downloaded;\n",
              "          }\n",
              "        }\n",
              "      }\n",
              "      const blob = new Blob(buffers, {type: 'application/binary'});\n",
              "      const a = document.createElement('a');\n",
              "      a.href = window.URL.createObjectURL(blob);\n",
              "      a.download = filename;\n",
              "      div.appendChild(a);\n",
              "      a.click();\n",
              "      div.remove();\n",
              "    }\n",
              "  "
            ]
          },
          "metadata": {}
        },
        {
          "output_type": "display_data",
          "data": {
            "text/plain": [
              "<IPython.core.display.Javascript object>"
            ],
            "application/javascript": [
              "download(\"download_04b6ad0c-2d2f-4d13-b1c3-d27adc2721b2\", \"mask01.zip\", 14287207)"
            ]
          },
          "metadata": {}
        }
      ]
    },
    {
      "cell_type": "code",
      "source": [
        "pip install opencv-python"
      ],
      "metadata": {
        "colab": {
          "base_uri": "https://localhost:8080/"
        },
        "id": "EptVTP8Zf0Ii",
        "outputId": "13769800-a249-45ae-95a2-42e6fb7d01d0"
      },
      "execution_count": null,
      "outputs": [
        {
          "output_type": "stream",
          "name": "stdout",
          "text": [
            "Requirement already satisfied: opencv-python in /usr/local/lib/python3.10/dist-packages (4.8.0.76)\n",
            "Requirement already satisfied: numpy>=1.21.2 in /usr/local/lib/python3.10/dist-packages (from opencv-python) (1.23.5)\n"
          ]
        }
      ]
    },
    {
      "cell_type": "markdown",
      "source": [
        "# 创建合成数据集"
      ],
      "metadata": {
        "id": "4_wc2k1zgPBS"
      }
    },
    {
      "cell_type": "code",
      "source": [
        "import os\n",
        "import cv2\n",
        "import numpy as np\n",
        "from google.colab.patches import cv2_imshow\n",
        "\n",
        "# 获取mask文件夹中的图片文件列表\n",
        "mask_image_files = os.listdir('mask/')\n",
        "\n",
        "# 创建颜色选项列表\n",
        "color_options = [\n",
        "    (50, 50, 50),  # 深黑色\n",
        "    (200, 200, 200),  # 浅灰色\n",
        "    (135, 136, 122),  # 棕色\n",
        "    (100, 100, 100),  # 浅黑色\n",
        "    (70, 80, 100),  # 深蓝色\n",
        "    (134, 127, 117)  # 深红色\n",
        "\n",
        "]\n",
        "\n",
        "# 遍历每个mask文件\n",
        "for mask_file in mask_image_files:\n",
        "    mask_image_path = os.path.join('mask', mask_file)\n",
        "    image_file = mask_file  # 假设mask和image文件名一致\n",
        "    if image_file in os.listdir('image'):\n",
        "        image_A_path = os.path.join('image', image_file)\n",
        "        image_B_path = mask_image_path\n",
        "\n",
        "        # 读取图像A（image）和图像B（mask）\n",
        "        image_A = cv2.imread(image_A_path, cv2.IMREAD_COLOR)\n",
        "        image_B = cv2.imread(image_B_path, cv2.IMREAD_COLOR)\n",
        "\n",
        "        # 将图像B转换为灰度图像\n",
        "        gray_image = cv2.cvtColor(image_B, cv2.COLOR_BGR2GRAY)\n",
        "\n",
        "        # 使用阈值化操作获取白色区域的二值掩码\n",
        "        _, thresholded = cv2.threshold(gray_image, 200, 255, cv2.THRESH_BINARY)\n",
        "\n",
        "        # 寻找白色区域的连通域\n",
        "        contours, _ = cv2.findContours(thresholded, cv2.RETR_EXTERNAL, cv2.CHAIN_APPROX_SIMPLE)\n",
        "\n",
        "        # 输出连通域的个数\n",
        "        print(f\"图像 {mask_file} 中的连通域个数:\", len(contours))\n",
        "\n",
        "        # 遍历test文件夹中的每张图片\n",
        "        test_image_files = os.listdir('test1')\n",
        "        for test_image_file in test_image_files:\n",
        "            # 读取test文件夹中的图片作为image_C\n",
        "            image_C = cv2.imread(os.path.join('test1', test_image_file), cv2.IMREAD_COLOR)\n",
        "\n",
        "            # 创建空白图像E\n",
        "            image_E = np.zeros_like(image_C)\n",
        "\n",
        "            # 遍历每个连通域\n",
        "            for contour in contours:\n",
        "                # 创建当前连通域的空白掩码\n",
        "                mask = np.zeros_like(gray_image)\n",
        "\n",
        "                # 在当前连通域的掩码上绘制连通域的白色区域\n",
        "                cv2.drawContours(mask, [contour], -1, (255), thickness=cv2.FILLED)\n",
        "\n",
        "                # 获取当前连通域的白色像素索引\n",
        "                white_pixels = np.where(mask == 255)\n",
        "\n",
        "                # 随机变换参数\n",
        "                scale_factor = np.random.uniform(0.8, 1.2)  # 随机缩放因子\n",
        "                rotation_angle = np.random.uniform(-60, 60)  # 随机旋转角度\n",
        "                translation_x = np.random.randint(15, 65)  # 随机水平平移\n",
        "                translation_y = np.random.randint(15, 65)  # 随机垂直平移\n",
        "                selected_color = color_options[np.random.randint(len(color_options))]\n",
        "\n",
        "                # 计算当前连通域的矩\n",
        "                M = cv2.moments(contour)\n",
        "                contour_center_x = int(M[\"m10\"] / M[\"m00\"])\n",
        "                contour_center_y = int(M[\"m01\"] / M[\"m00\"])\n",
        "\n",
        "                # 创建仿射变换矩阵\n",
        "                M = cv2.getRotationMatrix2D((contour_center_x, contour_center_y), rotation_angle, scale_factor)\n",
        "                M[:, 2] += (translation_x, translation_y)\n",
        "\n",
        "                # 对当前连通域进行仿射变换和颜色变换\n",
        "                transformed_contour = cv2.transform(contour, M)\n",
        "                transformed_contour = transformed_contour.astype(np.int32)\n",
        "                transformed_contour += (translation_x, translation_y)\n",
        "\n",
        "                # 绘制变换后的连通域\n",
        "                cv2.drawContours(image_C, [transformed_contour], -1, selected_color, thickness=cv2.FILLED)\n",
        "\n",
        "                # 在image_E中将连通域的区域置为白色\n",
        "                cv2.drawContours(image_E, [transformed_contour], -1, (255, 255, 255), thickness=cv2.FILLED)\n",
        "\n",
        "            # 从 mask_file 中提取文件名部分（去掉后缀）\n",
        "            mask_file_name = os.path.splitext(mask_file)[0]\n",
        "\n",
        "            # 构建保存图片的文件路径，包括 mask 的名称和 test_image_file\n",
        "            output_image_A_path = os.path.join('image01', f'{mask_file_name}_{test_image_file}')\n",
        "            output_image_E_path = os.path.join('mask01', f'{mask_file_name}_{test_image_file}')\n",
        "\n",
        "            cv2.imwrite(output_image_A_path, image_C)\n",
        "            cv2.imwrite(output_image_E_path, image_E)\n",
        "\n",
        "print(\"处理完成并保存图片。\")"
      ],
      "metadata": {
        "id": "fYWrXM5sgK5y",
        "colab": {
          "base_uri": "https://localhost:8080/"
        },
        "outputId": "c6a09074-44fa-4510-8fd4-56d32ee3c287"
      },
      "execution_count": null,
      "outputs": [
        {
          "output_type": "stream",
          "name": "stdout",
          "text": [
            "图像 P110.jpg 中的连通域个数: 7\n",
            "图像 P091.jpg 中的连通域个数: 10\n",
            "图像 P146.jpg 中的连通域个数: 42\n",
            "图像 P077.jpg 中的连通域个数: 5\n",
            "图像 P008.jpg 中的连通域个数: 4\n",
            "图像 P062.jpg 中的连通域个数: 21\n",
            "图像 P148.jpg 中的连通域个数: 29\n",
            "图像 P123.jpg 中的连通域个数: 17\n",
            "图像 P162.jpg 中的连通域个数: 24\n",
            "图像 P118.jpg 中的连通域个数: 10\n",
            "图像 P095.jpg 中的连通域个数: 5\n",
            "图像 P104.jpg 中的连通域个数: 16\n",
            "图像 P084.jpg 中的连通域个数: 4\n",
            "图像 P161.jpg 中的连通域个数: 24\n",
            "图像 P155.jpg 中的连通域个数: 32\n",
            "图像 P158.jpg 中的连通域个数: 17\n",
            "图像 P153.jpg 中的连通域个数: 19\n",
            "图像 Control.jpg 中的连通域个数: 4\n",
            "图像 P138.jpg 中的连通域个数: 5\n",
            "图像 P105.jpg 中的连通域个数: 13\n",
            "图像 P152.jpg 中的连通域个数: 24\n",
            "图像 P128.jpg 中的连通域个数: 3\n",
            "图像 P075.jpg 中的连通域个数: 4\n",
            "图像 P103.jpg 中的连通域个数: 22\n",
            "图像 P053.jpg 中的连通域个数: 14\n",
            "图像 P121.jpg 中的连通域个数: 27\n",
            "图像 P083.jpg 中的连通域个数: 5\n",
            "图像 P154.jpg 中的连通域个数: 27\n",
            "图像 P140.jpg 中的连通域个数: 11\n",
            "图像 No ID 1.jpg 中的连通域个数: 14\n",
            "图像 P137.jpg 中的连通域个数: 23\n",
            "图像 P090.jpg 中的连通域个数: 36\n",
            "图像 P107.jpg 中的连通域个数: 5\n",
            "图像 P080.jpg 中的连通域个数: 5\n",
            "图像 P067.jpg 中的连通域个数: 5\n",
            "图像 P127.jpg 中的连通域个数: 31\n",
            "图像 No ID 2.jpg 中的连通域个数: 43\n",
            "图像 No ID 3.jpg 中的连通域个数: 20\n",
            "图像 P088.jpg 中的连通域个数: 39\n",
            "图像 P101.jpg 中的连通域个数: 10\n",
            "图像 P115.jpg 中的连通域个数: 15\n",
            "图像 P038.jpg 中的连通域个数: 19\n",
            "图像 P151.jpg 中的连通域个数: 14\n",
            "图像 P168.jpg 中的连通域个数: 12\n",
            "图像 P160.jpg 中的连通域个数: 49\n",
            "图像 P163.jpg 中的连通域个数: 34\n",
            "图像 P120.jpg 中的连通域个数: 19\n",
            "图像 P068.jpg 中的连通域个数: 8\n",
            "图像 P102.jpg 中的连通域个数: 5\n",
            "图像 P131.jpg 中的连通域个数: 7\n",
            "图像 P116.jpg 中的连通域个数: 31\n",
            "图像 P048.jpg 中的连通域个数: 6\n",
            "图像 P073.jpg 中的连通域个数: 16\n",
            "图像 P087.jpg 中的连通域个数: 3\n",
            "图像 P129.jpg 中的连通域个数: 26\n",
            "图像 P157.jpg 中的连通域个数: 5\n",
            "图像 P106.jpg 中的连通域个数: 16\n",
            "图像 P081.jpg 中的连通域个数: 13\n",
            "图像 P012.jpg 中的连通域个数: 36\n",
            "图像 P135.jpg 中的连通域个数: 23\n",
            "图像 P126.jpg 中的连通域个数: 19\n",
            "图像 P079.jpg 中的连通域个数: 18\n",
            "图像 P111.jpg 中的连通域个数: 8\n",
            "处理完成并保存图片。\n"
          ]
        }
      ]
    },
    {
      "cell_type": "markdown",
      "source": [
        "共创建630张"
      ],
      "metadata": {
        "id": "0vMKSFX4hIk9"
      }
    },
    {
      "cell_type": "markdown",
      "source": [
        "有三张图像生成的合成数据集效果不好，故删除，图像数据为p088,p090,p148"
      ],
      "metadata": {
        "id": "1pBNMk0Sotqx"
      }
    },
    {
      "cell_type": "markdown",
      "source": [
        "所以使用的合成数据集一共600张图像"
      ],
      "metadata": {
        "id": "4C6lMkepo9wo"
      }
    }
  ]
}