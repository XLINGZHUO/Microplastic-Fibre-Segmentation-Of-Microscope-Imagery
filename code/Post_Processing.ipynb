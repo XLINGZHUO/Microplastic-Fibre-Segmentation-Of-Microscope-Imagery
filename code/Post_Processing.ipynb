{
  "nbformat": 4,
  "nbformat_minor": 0,
  "metadata": {
    "colab": {
      "provenance": []
    },
    "kernelspec": {
      "name": "python3",
      "display_name": "Python 3"
    },
    "language_info": {
      "name": "python"
    }
  },
  "cells": [
    {
      "cell_type": "code",
      "source": [
        "import zipfile\n",
        "\n",
        "zip_file_name = \"tuned2.zip\" # image 50张图像; image1 600张图像; image2 650张图像; test 13张图像\n",
        "\n",
        "with zipfile.ZipFile(zip_file_name, 'r') as zip_ref:\n",
        "    zip_ref.extractall()"
      ],
      "metadata": {
        "id": "K4J1LqgdszMY"
      },
      "execution_count": null,
      "outputs": []
    },
    {
      "cell_type": "markdown",
      "source": [
        "# 后处理操作"
      ],
      "metadata": {
        "id": "VbSkAddjNxHb"
      }
    },
    {
      "cell_type": "code",
      "source": [
        "import os\n",
        "import cv2\n",
        "\n",
        "# 设置文件夹路径\n",
        "input_folder_path = 'tuned2/'\n",
        "output_folder_path = 'mask02/'\n",
        "\n",
        "# 获取文件夹中所有图像文件\n",
        "image_files = [f for f in os.listdir(input_folder_path) if f.lower().endswith(('.png', '.jpg', '.jpeg'))]\n",
        "\n",
        "for image_file in image_files:\n",
        "    # 读取图像\n",
        "    image_path = os.path.join(input_folder_path, image_file)\n",
        "    image = cv2.imread(image_path, cv2.IMREAD_GRAYSCALE)  # 以灰度图像格式读取图像\n",
        "\n",
        "    # 找到连通组件\n",
        "    ret, labels = cv2.connectedComponents(image)\n",
        "\n",
        "    # 去除小的连通区域\n",
        "    min_area = 250  # 最小连通区域面积\n",
        "    for label in range(1, ret):\n",
        "        area = np.sum(labels == label)\n",
        "        if area < min_area:\n",
        "            image[labels == label] = 0\n",
        "\n",
        "    # 保存处理后的图像到输出文件夹\n",
        "    output_path = os.path.join(output_folder_path, image_file)\n",
        "    cv2.imwrite(output_path, image)\n",
        "\n",
        "print(\"图像处理完成并保存到 mask02 文件夹中。\")"
      ],
      "metadata": {
        "colab": {
          "base_uri": "https://localhost:8080/"
        },
        "id": "-iSIsn3-v4nk",
        "outputId": "6c8b8b12-8931-40d1-cae9-12af652d588a"
      },
      "execution_count": null,
      "outputs": [
        {
          "output_type": "stream",
          "name": "stdout",
          "text": [
            "图像处理完成并保存到 mask02 文件夹中。\n"
          ]
        }
      ]
    },
    {
      "cell_type": "code",
      "source": [
        "import os\n",
        "import numpy as np\n",
        "import cv2\n",
        "from sklearn.metrics import average_precision_score\n",
        "\n",
        "def binarize_masks(masks, threshold=0):\n",
        "    binarized_masks = [mask > threshold for mask in masks]\n",
        "    return binarized_masks\n",
        "\n",
        "def calculate_iou(pred_mask, true_mask):\n",
        "    intersection = np.logical_and(pred_mask, true_mask).sum()\n",
        "    union = np.logical_or(pred_mask, true_mask).sum()\n",
        "    iou = intersection / union if union > 0 else 0.0\n",
        "    return iou\n",
        "\n",
        "# Load predicted masks from mask0 folder\n",
        "predicted_mask_folder = 'mask02/' #mask1 orig_new combined_masks1/ tuned_image_new/\n",
        "predicted_mask_files = os.listdir(predicted_mask_folder)\n",
        "predicted_masks = [cv2.imread(os.path.join(predicted_mask_folder, file), cv2.IMREAD_GRAYSCALE) for file in predicted_mask_files]\n",
        "predicted_masks = binarize_masks(predicted_masks)\n",
        "\n",
        "# Load true masks from mask1 folder\n",
        "true_mask_folder = 'test_mask/'\n",
        "true_mask_files = os.listdir(true_mask_folder)\n",
        "true_masks = [cv2.imread(os.path.join(true_mask_folder, file), cv2.IMREAD_GRAYSCALE) for file in true_mask_files]\n",
        "true_masks = binarize_masks(true_masks)\n",
        "\n",
        "# Initialize metrics\n",
        "num_classes = 2  # Assuming binary masks\n",
        "iou_scores = []\n",
        "dices = []\n",
        "precisions = []\n",
        "recalls = []\n",
        "f1_scores = []\n",
        "average_precisions = []\n",
        "\n",
        "# Calculate metrics\n",
        "for class_idx in range(num_classes):\n",
        "    ious = []\n",
        "    dices = []\n",
        "    class_true_positive = 0\n",
        "    class_false_positive = 0\n",
        "    class_false_negative = 0\n",
        "\n",
        "    for pred_mask, true_mask in zip(predicted_masks, true_masks):\n",
        "        iou = calculate_iou(pred_mask, true_mask)\n",
        "        ious.append(iou)\n",
        "\n",
        "        dice = 2 * np.logical_and(pred_mask, true_mask).sum() / (pred_mask.sum() + true_mask.sum() + 1e-5)\n",
        "        dices.append(dice)\n",
        "\n",
        "        true_positive = np.logical_and(pred_mask, true_mask).sum()\n",
        "        false_positive = np.logical_and(pred_mask, ~true_mask).sum()\n",
        "        false_negative = np.logical_and(~pred_mask, true_mask).sum()\n",
        "\n",
        "        class_true_positive += true_positive\n",
        "        class_false_positive += false_positive\n",
        "        class_false_negative += false_negative\n",
        "\n",
        "    class_precision = class_true_positive / (class_true_positive + class_false_positive)\n",
        "    class_recall = class_true_positive / (class_true_positive + class_false_negative)\n",
        "    class_f1 = 2 * (class_precision * class_recall) / (class_precision + class_recall)\n",
        "\n",
        "    iou_scores.append(sum(ious) / len(ious))\n",
        "    precisions.append(class_precision)\n",
        "    recalls.append(class_recall)\n",
        "    f1_scores.append(class_f1)\n",
        "\n",
        "    # Calculate Average Precision (AP) for each class\n",
        "    true_masks_stacked = np.stack(true_masks, axis=-1)\n",
        "    predicted_masks_stacked = np.stack(predicted_masks, axis=-1)\n",
        "    for class_idx in range(num_classes):\n",
        "        true_class = true_masks_stacked[:, :, class_idx].flatten()\n",
        "        predicted_class = predicted_masks_stacked[:, :, class_idx].flatten()\n",
        "        average_precision = average_precision_score(true_class, predicted_class)\n",
        "        average_precisions.append(average_precision)\n",
        "\n",
        "# Calculate mean metrics\n",
        "mean_iou = sum(iou_scores) / num_classes\n",
        "mean_dice = np.mean(dices)\n",
        "mean_precision = sum(precisions) / num_classes\n",
        "mean_recall = sum(recalls) / num_classes\n",
        "mean_f1 = sum(f1_scores) / num_classes\n",
        "mean_average_precision = sum(average_precisions) / num_classes\n",
        "\n",
        "# Print evaluation metrics\n",
        "print(f\"Mean Intersection over Union (mIoU): {mean_iou}\")\n",
        "print(f\"Mean Dice Coefficient: {mean_dice}\")\n",
        "print(f\"Mean Precision: {mean_precision}\")\n",
        "print(f\"Mean Recall: {mean_recall}\")\n",
        "print(f\"Mean F1 Score: {mean_f1}\")\n",
        "print(f\"Mean Average Precision (mAP): {mean_average_precision}\")"
      ],
      "metadata": {
        "colab": {
          "base_uri": "https://localhost:8080/"
        },
        "id": "xjEdbgyPtuiF",
        "outputId": "990f871a-c416-4dd7-8caf-a2b0ef33fbd2"
      },
      "execution_count": null,
      "outputs": [
        {
          "output_type": "stream",
          "name": "stdout",
          "text": [
            "Mean Intersection over Union (mIoU): 0.07238309943551793\n",
            "Mean Dice Coefficient: 0.1295016583489367\n",
            "Mean Precision: 0.1338066130817731\n",
            "Mean Recall: 0.1561643373927111\n",
            "Mean F1 Score: 0.14412354780012132\n",
            "Mean Average Precision (mAP): 0.10645907434962812\n"
          ]
        }
      ]
    },
    {
      "cell_type": "code",
      "source": [
        "import shutil\n",
        "\n",
        "# 指定要下载的文件夹路径\n",
        "mask_folder_path = \"mask02/\"  # 根据你实际的文件夹路径进行修改\n",
        "\n",
        "# 指定zip文件名\n",
        "zip_file_name = \"mask02.zip\"\n",
        "\n",
        "# 将文件夹打包成zip文件\n",
        "shutil.make_archive(\"mask02\", 'zip', mask_folder_path)"
      ],
      "metadata": {
        "colab": {
          "base_uri": "https://localhost:8080/",
          "height": 35
        },
        "id": "MNjhV6L-pu0U",
        "outputId": "e7ed5a4f-fc2d-416e-cc82-cdecfa75f5e0"
      },
      "execution_count": null,
      "outputs": [
        {
          "output_type": "execute_result",
          "data": {
            "text/plain": [
              "'/content/mask02.zip'"
            ],
            "application/vnd.google.colaboratory.intrinsic+json": {
              "type": "string"
            }
          },
          "metadata": {},
          "execution_count": 75
        }
      ]
    },
    {
      "cell_type": "code",
      "source": [
        "from google.colab import files\n",
        "\n",
        "# 下载zip文件\n",
        "files.download(zip_file_name)"
      ],
      "metadata": {
        "colab": {
          "base_uri": "https://localhost:8080/",
          "height": 34
        },
        "id": "-uKJvpZzp09D",
        "outputId": "fc6c94f9-ced8-499f-a4db-fcc0f2cb2aae"
      },
      "execution_count": null,
      "outputs": [
        {
          "output_type": "display_data",
          "data": {
            "text/plain": [
              "<IPython.core.display.Javascript object>"
            ],
            "application/javascript": [
              "\n",
              "    async function download(id, filename, size) {\n",
              "      if (!google.colab.kernel.accessAllowed) {\n",
              "        return;\n",
              "      }\n",
              "      const div = document.createElement('div');\n",
              "      const label = document.createElement('label');\n",
              "      label.textContent = `Downloading \"${filename}\": `;\n",
              "      div.appendChild(label);\n",
              "      const progress = document.createElement('progress');\n",
              "      progress.max = size;\n",
              "      div.appendChild(progress);\n",
              "      document.body.appendChild(div);\n",
              "\n",
              "      const buffers = [];\n",
              "      let downloaded = 0;\n",
              "\n",
              "      const channel = await google.colab.kernel.comms.open(id);\n",
              "      // Send a message to notify the kernel that we're ready.\n",
              "      channel.send({})\n",
              "\n",
              "      for await (const message of channel.messages) {\n",
              "        // Send a message to notify the kernel that we're ready.\n",
              "        channel.send({})\n",
              "        if (message.buffers) {\n",
              "          for (const buffer of message.buffers) {\n",
              "            buffers.push(buffer);\n",
              "            downloaded += buffer.byteLength;\n",
              "            progress.value = downloaded;\n",
              "          }\n",
              "        }\n",
              "      }\n",
              "      const blob = new Blob(buffers, {type: 'application/binary'});\n",
              "      const a = document.createElement('a');\n",
              "      a.href = window.URL.createObjectURL(blob);\n",
              "      a.download = filename;\n",
              "      div.appendChild(a);\n",
              "      a.click();\n",
              "      div.remove();\n",
              "    }\n",
              "  "
            ]
          },
          "metadata": {}
        },
        {
          "output_type": "display_data",
          "data": {
            "text/plain": [
              "<IPython.core.display.Javascript object>"
            ],
            "application/javascript": [
              "download(\"download_51cb1fd7-0f7e-4a6f-a4b7-82854cc4a0e0\", \"mask02.zip\", 1540182)"
            ]
          },
          "metadata": {}
        }
      ]
    }
  ]
}