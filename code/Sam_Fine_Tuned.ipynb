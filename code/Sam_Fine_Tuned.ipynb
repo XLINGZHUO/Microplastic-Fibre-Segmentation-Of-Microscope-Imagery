{
  "nbformat": 4,
  "nbformat_minor": 0,
  "metadata": {
    "colab": {
      "provenance": [],
      "gpuType": "T4"
    },
    "kernelspec": {
      "name": "python3",
      "display_name": "Python 3"
    },
    "language_info": {
      "name": "python"
    },
    "accelerator": "GPU"
  },
  "cells": [
    {
      "cell_type": "markdown",
      "source": [
        "# SETUP"
      ],
      "metadata": {
        "id": "jg7K0QApehPh"
      }
    },
    {
      "cell_type": "code",
      "execution_count": null,
      "metadata": {
        "id": "qUlsyIireU92"
      },
      "outputs": [],
      "source": [
        "! pip install kaggle &> /dev/null\n",
        "! pip install torch torchvision &> /dev/null\n",
        "! pip install opencv-python pycocotools matplotlib onnxruntime onnx &> /dev/null\n",
        "! pip install git+https://github.com/facebookresearch/segment-anything.git &> /dev/null\n",
        "! wget https://dl.fbaipublicfiles.com/segment_anything/sam_vit_b_01ec64.pth &> /dev/null\n",
        "\n",
        "from pathlib import Path\n",
        "import numpy as np\n",
        "import matplotlib.pyplot as plt\n",
        "import cv2"
      ]
    },
    {
      "cell_type": "markdown",
      "source": [
        "# Preprocess data"
      ],
      "metadata": {
        "id": "VC6YdWrFe20y"
      }
    },
    {
      "cell_type": "code",
      "source": [
        "from google.colab import files\n",
        "\n",
        "uploaded = files.upload()"
      ],
      "metadata": {
        "colab": {
          "base_uri": "https://localhost:8080/",
          "height": 41
        },
        "id": "zAl407GveroL",
        "outputId": "2f0922d7-76cc-42df-a8ad-7b054c4c88b3"
      },
      "execution_count": null,
      "outputs": [
        {
          "output_type": "display_data",
          "data": {
            "text/plain": [
              "<IPython.core.display.HTML object>"
            ],
            "text/html": [
              "\n",
              "     <input type=\"file\" id=\"files-94a6b5d5-dcbd-4440-8ebf-dedcb6978757\" name=\"files[]\" multiple disabled\n",
              "        style=\"border:none\" />\n",
              "     <output id=\"result-94a6b5d5-dcbd-4440-8ebf-dedcb6978757\">\n",
              "      Upload widget is only available when the cell has been executed in the\n",
              "      current browser session. Please rerun this cell to enable.\n",
              "      </output>\n",
              "      <script>// Copyright 2017 Google LLC\n",
              "//\n",
              "// Licensed under the Apache License, Version 2.0 (the \"License\");\n",
              "// you may not use this file except in compliance with the License.\n",
              "// You may obtain a copy of the License at\n",
              "//\n",
              "//      http://www.apache.org/licenses/LICENSE-2.0\n",
              "//\n",
              "// Unless required by applicable law or agreed to in writing, software\n",
              "// distributed under the License is distributed on an \"AS IS\" BASIS,\n",
              "// WITHOUT WARRANTIES OR CONDITIONS OF ANY KIND, either express or implied.\n",
              "// See the License for the specific language governing permissions and\n",
              "// limitations under the License.\n",
              "\n",
              "/**\n",
              " * @fileoverview Helpers for google.colab Python module.\n",
              " */\n",
              "(function(scope) {\n",
              "function span(text, styleAttributes = {}) {\n",
              "  const element = document.createElement('span');\n",
              "  element.textContent = text;\n",
              "  for (const key of Object.keys(styleAttributes)) {\n",
              "    element.style[key] = styleAttributes[key];\n",
              "  }\n",
              "  return element;\n",
              "}\n",
              "\n",
              "// Max number of bytes which will be uploaded at a time.\n",
              "const MAX_PAYLOAD_SIZE = 100 * 1024;\n",
              "\n",
              "function _uploadFiles(inputId, outputId) {\n",
              "  const steps = uploadFilesStep(inputId, outputId);\n",
              "  const outputElement = document.getElementById(outputId);\n",
              "  // Cache steps on the outputElement to make it available for the next call\n",
              "  // to uploadFilesContinue from Python.\n",
              "  outputElement.steps = steps;\n",
              "\n",
              "  return _uploadFilesContinue(outputId);\n",
              "}\n",
              "\n",
              "// This is roughly an async generator (not supported in the browser yet),\n",
              "// where there are multiple asynchronous steps and the Python side is going\n",
              "// to poll for completion of each step.\n",
              "// This uses a Promise to block the python side on completion of each step,\n",
              "// then passes the result of the previous step as the input to the next step.\n",
              "function _uploadFilesContinue(outputId) {\n",
              "  const outputElement = document.getElementById(outputId);\n",
              "  const steps = outputElement.steps;\n",
              "\n",
              "  const next = steps.next(outputElement.lastPromiseValue);\n",
              "  return Promise.resolve(next.value.promise).then((value) => {\n",
              "    // Cache the last promise value to make it available to the next\n",
              "    // step of the generator.\n",
              "    outputElement.lastPromiseValue = value;\n",
              "    return next.value.response;\n",
              "  });\n",
              "}\n",
              "\n",
              "/**\n",
              " * Generator function which is called between each async step of the upload\n",
              " * process.\n",
              " * @param {string} inputId Element ID of the input file picker element.\n",
              " * @param {string} outputId Element ID of the output display.\n",
              " * @return {!Iterable<!Object>} Iterable of next steps.\n",
              " */\n",
              "function* uploadFilesStep(inputId, outputId) {\n",
              "  const inputElement = document.getElementById(inputId);\n",
              "  inputElement.disabled = false;\n",
              "\n",
              "  const outputElement = document.getElementById(outputId);\n",
              "  outputElement.innerHTML = '';\n",
              "\n",
              "  const pickedPromise = new Promise((resolve) => {\n",
              "    inputElement.addEventListener('change', (e) => {\n",
              "      resolve(e.target.files);\n",
              "    });\n",
              "  });\n",
              "\n",
              "  const cancel = document.createElement('button');\n",
              "  inputElement.parentElement.appendChild(cancel);\n",
              "  cancel.textContent = 'Cancel upload';\n",
              "  const cancelPromise = new Promise((resolve) => {\n",
              "    cancel.onclick = () => {\n",
              "      resolve(null);\n",
              "    };\n",
              "  });\n",
              "\n",
              "  // Wait for the user to pick the files.\n",
              "  const files = yield {\n",
              "    promise: Promise.race([pickedPromise, cancelPromise]),\n",
              "    response: {\n",
              "      action: 'starting',\n",
              "    }\n",
              "  };\n",
              "\n",
              "  cancel.remove();\n",
              "\n",
              "  // Disable the input element since further picks are not allowed.\n",
              "  inputElement.disabled = true;\n",
              "\n",
              "  if (!files) {\n",
              "    return {\n",
              "      response: {\n",
              "        action: 'complete',\n",
              "      }\n",
              "    };\n",
              "  }\n",
              "\n",
              "  for (const file of files) {\n",
              "    const li = document.createElement('li');\n",
              "    li.append(span(file.name, {fontWeight: 'bold'}));\n",
              "    li.append(span(\n",
              "        `(${file.type || 'n/a'}) - ${file.size} bytes, ` +\n",
              "        `last modified: ${\n",
              "            file.lastModifiedDate ? file.lastModifiedDate.toLocaleDateString() :\n",
              "                                    'n/a'} - `));\n",
              "    const percent = span('0% done');\n",
              "    li.appendChild(percent);\n",
              "\n",
              "    outputElement.appendChild(li);\n",
              "\n",
              "    const fileDataPromise = new Promise((resolve) => {\n",
              "      const reader = new FileReader();\n",
              "      reader.onload = (e) => {\n",
              "        resolve(e.target.result);\n",
              "      };\n",
              "      reader.readAsArrayBuffer(file);\n",
              "    });\n",
              "    // Wait for the data to be ready.\n",
              "    let fileData = yield {\n",
              "      promise: fileDataPromise,\n",
              "      response: {\n",
              "        action: 'continue',\n",
              "      }\n",
              "    };\n",
              "\n",
              "    // Use a chunked sending to avoid message size limits. See b/62115660.\n",
              "    let position = 0;\n",
              "    do {\n",
              "      const length = Math.min(fileData.byteLength - position, MAX_PAYLOAD_SIZE);\n",
              "      const chunk = new Uint8Array(fileData, position, length);\n",
              "      position += length;\n",
              "\n",
              "      const base64 = btoa(String.fromCharCode.apply(null, chunk));\n",
              "      yield {\n",
              "        response: {\n",
              "          action: 'append',\n",
              "          file: file.name,\n",
              "          data: base64,\n",
              "        },\n",
              "      };\n",
              "\n",
              "      let percentDone = fileData.byteLength === 0 ?\n",
              "          100 :\n",
              "          Math.round((position / fileData.byteLength) * 100);\n",
              "      percent.textContent = `${percentDone}% done`;\n",
              "\n",
              "    } while (position < fileData.byteLength);\n",
              "  }\n",
              "\n",
              "  // All done.\n",
              "  yield {\n",
              "    response: {\n",
              "      action: 'complete',\n",
              "    }\n",
              "  };\n",
              "}\n",
              "\n",
              "scope.google = scope.google || {};\n",
              "scope.google.colab = scope.google.colab || {};\n",
              "scope.google.colab._files = {\n",
              "  _uploadFiles,\n",
              "  _uploadFilesContinue,\n",
              "};\n",
              "})(self);\n",
              "</script> "
            ]
          },
          "metadata": {}
        }
      ]
    },
    {
      "cell_type": "code",
      "source": [
        "import zipfile\n",
        "\n",
        "zip_file_name = \"image01.zip\" # image 50张图像; image1 600张图像; image2 650张图像; test 13张图像\n",
        "\n",
        "with zipfile.ZipFile(zip_file_name, 'r') as zip_ref:\n",
        "    zip_ref.extractall()"
      ],
      "metadata": {
        "id": "Qa7eGflwetb3"
      },
      "execution_count": null,
      "outputs": []
    },
    {
      "cell_type": "code",
      "source": [
        "bbox_coords = {}\n",
        "for f in sorted(Path('image01/').iterdir())[:600]:  # 50 600 650\n",
        "  #print(f)\n",
        "  k = f.stem\n",
        "  #print(k)\n",
        "  if k not in stamps_to_exclude:\n",
        "    im = cv2.imread(f.as_posix())\n",
        "    gray=cv2.cvtColor(im,cv2.COLOR_BGR2GRAY)\n",
        "    contours, hierarchy = cv2.findContours(gray,cv2.RETR_LIST,cv2.CHAIN_APPROX_SIMPLE)[-2:]\n",
        "    if len(contours) > 0:\n",
        "      x,y,w,h = cv2.boundingRect(contours[0])\n",
        "      height, width, _ = im.shape\n",
        "      bbox_coords[k] = np.array([x, y, x + w, y + h])\n",
        "\n",
        "      # print(bbox_coords)"
      ],
      "metadata": {
        "id": "VtCSVJEAewh7"
      },
      "execution_count": null,
      "outputs": []
    },
    {
      "cell_type": "code",
      "source": [
        "ground_truth_masks = {}\n",
        "i = 0\n",
        "for k in bbox_coords.keys():\n",
        "  gt_grayscale = cv2.imread(f'mask01/{k}.jpg', cv2.IMREAD_GRAYSCALE)\n",
        "  ground_truth_masks[k] = (gt_grayscale >= 125)\n",
        "  i = i+1\n",
        "print(i)"
      ],
      "metadata": {
        "colab": {
          "base_uri": "https://localhost:8080/"
        },
        "id": "XpDqbDAmirCL",
        "outputId": "04bf29a3-f3a6-4c39-b6fa-ffdc581ef7c7"
      },
      "execution_count": null,
      "outputs": [
        {
          "output_type": "stream",
          "name": "stdout",
          "text": [
            "600\n"
          ]
        }
      ]
    },
    {
      "cell_type": "markdown",
      "source": [
        "# Take a look at the images, the bounding box prompts and the ground truth segmentation masks"
      ],
      "metadata": {
        "id": "FUpob52ye4ku"
      }
    },
    {
      "cell_type": "code",
      "source": [
        "#Helper functions provided in https://github.com/facebookresearch/segment-anything/blob/9e8f1309c94f1128a6e5c047a10fdcb02fc8d651/notebooks/predictor_example.ipynb\n",
        "def show_mask(mask, ax, random_color=False):\n",
        "    if random_color:\n",
        "        color = np.concatenate([np.random.random(3), np.array([0.6])], axis=0)\n",
        "    else:\n",
        "        color = np.array([30/255, 144/255, 255/255, 0.6])\n",
        "    h, w = mask.shape[-2:]\n",
        "    mask_image = mask.reshape(h, w, 1) * color.reshape(1, 1, -1)\n",
        "    ax.imshow(mask_image)\n",
        "\n",
        "\n",
        "def show_box(box, ax):\n",
        "    x0, y0 = box[0], box[1]\n",
        "    w, h = box[2] - box[0], box[3] - box[1]\n",
        "    ax.add_patch(plt.Rectangle((x0, y0), w, h, edgecolor='green', facecolor=(0,0,0,0), lw=2))"
      ],
      "metadata": {
        "id": "9vXMjtVee_zy"
      },
      "execution_count": null,
      "outputs": []
    },
    {
      "cell_type": "code",
      "source": [
        "name = 'P008_1' #P008_img1\n",
        "image = cv2.imread(f'image01/{name}.jpg')\n",
        "# image = cv2.imread(f'mask1.jpg')\n",
        "\n",
        "plt.figure(figsize=(10,10))\n",
        "plt.imshow(image)\n",
        "show_box(bbox_coords[name], plt.gca())\n",
        "show_mask(ground_truth_masks[name], plt.gca())\n",
        "plt.axis('off')\n",
        "plt.show()"
      ],
      "metadata": {
        "colab": {
          "base_uri": "https://localhost:8080/",
          "height": 472
        },
        "id": "oyI4u9vJfFCo",
        "outputId": "9186258e-4cfc-466b-fd04-120cff80ef9a"
      },
      "execution_count": null,
      "outputs": [
        {
          "output_type": "display_data",
          "data": {
            "text/plain": [
              "<Figure size 1000x1000 with 1 Axes>"
            ],
            "image/png": "[encoded data removed]"
          },
          "metadata": {}
        }
      ]
    },
    {
      "cell_type": "markdown",
      "source": [
        "# Prepare Fine Tuning"
      ],
      "metadata": {
        "id": "LPrNx0VWfHxc"
      }
    },
    {
      "cell_type": "code",
      "source": [
        "model_type = 'vit_b'\n",
        "checkpoint = 'sam_vit_b_01ec64.pth'\n",
        "device = 'cuda:0'\n",
        "\n",
        "from segment_anything import SamPredictor, sam_model_registry\n",
        "sam_model = sam_model_registry[model_type](checkpoint=checkpoint)\n",
        "sam_model.to(device)\n",
        "sam_model.train();\n",
        "\n",
        "import cv2\n",
        "\n",
        "def is_image_non_empty(image_path):\n",
        "    image = cv2.imread(image_path)\n",
        "    if image is None:\n",
        "        return False\n",
        "    return True\n",
        "\n",
        "i = 0\n",
        "# 测试示例\n",
        "for k in bbox_coords.keys():\n",
        "   image_path = f'image01/{k}.jpg'  # 替换为您的图像文件路径\n",
        "   if is_image_non_empty(image_path):\n",
        "      i = i + 1\n",
        "\n",
        "   else:\n",
        "      print(\"图像为空或无法读取\")\n",
        "\n",
        "print(i)"
      ],
      "metadata": {
        "colab": {
          "base_uri": "https://localhost:8080/"
        },
        "id": "1mVUQW63fZXe",
        "outputId": "38211ac3-13d6-43e0-f6bf-fc162a28353a"
      },
      "execution_count": null,
      "outputs": [
        {
          "output_type": "stream",
          "name": "stdout",
          "text": [
            "600\n"
          ]
        }
      ]
    },
    {
      "cell_type": "code",
      "source": [
        "# Preprocess the images\n",
        "from collections import defaultdict\n",
        "\n",
        "import torch\n",
        "\n",
        "from segment_anything.utils.transforms import ResizeLongestSide\n",
        "\n",
        "transformed_data = defaultdict(dict)\n",
        "for k in bbox_coords.keys():\n",
        "  image = cv2.imread(f'image01/{k}.jpg')\n",
        "  image = cv2.cvtColor(image, cv2.COLOR_BGR2RGB)\n",
        "  transform = ResizeLongestSide(sam_model.image_encoder.img_size)\n",
        "  input_image = transform.apply_image(image)\n",
        "  input_image_torch = torch.as_tensor(input_image, device=device)\n",
        "  transformed_image = input_image_torch.permute(2, 0, 1).contiguous()[None, :, :, :]\n",
        "\n",
        "  input_image = sam_model.preprocess(transformed_image)\n",
        "  original_image_size = image.shape[:2]\n",
        "  input_size = tuple(transformed_image.shape[-2:])\n",
        "\n",
        "  transformed_data[k]['image'] = input_image\n",
        "  transformed_data[k]['input_size'] = input_size\n",
        "  transformed_data[k]['original_image_size'] = original_image_size"
      ],
      "metadata": {
        "id": "CQ3DwxC9fnYS"
      },
      "execution_count": null,
      "outputs": []
    },
    {
      "cell_type": "code",
      "source": [
        "# Set up the optimizer, hyperparameter tuning will improve performance here\n",
        "lr = 1e-5 # lr = le-4\n",
        "wd = 0.0001 # 0 0.01->image图像\n",
        "optimizer = torch.optim.Adam(sam_model.mask_decoder.parameters(), lr=lr, weight_decay=wd)\n",
        "\n",
        "loss_fn = torch.nn.MSELoss()\n",
        "#loss_fn = torch.nn.BCELoss()\n",
        "keys = list(bbox_coords.keys())"
      ],
      "metadata": {
        "id": "6qExU21WfqUu"
      },
      "execution_count": null,
      "outputs": []
    },
    {
      "cell_type": "markdown",
      "source": [
        "# Run fine tuning"
      ],
      "metadata": {
        "id": "2-PLDJBEfvDY"
      }
    },
    {
      "cell_type": "code",
      "source": [
        "from statistics import mean\n",
        "from tqdm import tqdm\n",
        "from torch.nn.functional import threshold, normalize\n",
        "from sklearn.model_selection import train_test_split\n",
        "import matplotlib.pyplot as plt\n",
        "\n",
        "keys = list(transformed_data.keys())\n",
        "train_keys, val_keys = train_test_split(keys[:650], test_size=0.2, random_state=42)\n",
        "\n",
        "num_epochs = 10\n",
        "train_losses = []\n",
        "val_losses = []\n",
        "\n",
        "for epoch in range(num_epochs):\n",
        "    epoch_train_losses = []\n",
        "    epoch_val_losses = []\n",
        "\n",
        "    for k in tqdm(train_keys):\n",
        "      input_image = transformed_data[k]['image'].to(device)\n",
        "      input_size = transformed_data[k]['input_size']\n",
        "      original_image_size = transformed_data[k]['original_image_size']\n",
        "\n",
        "      # No grad here as we don't want to optimise the encoders\n",
        "      with torch.no_grad():\n",
        "        image_embedding = sam_model.image_encoder(input_image)\n",
        "\n",
        "        prompt_box = bbox_coords[k]\n",
        "        box = transform.apply_boxes(prompt_box, original_image_size)\n",
        "        box_torch = torch.as_tensor(box, dtype=torch.float, device=device)\n",
        "        box_torch = box_torch[None, :]\n",
        "\n",
        "        sparse_embeddings, dense_embeddings = sam_model.prompt_encoder(\n",
        "            points=None,\n",
        "            boxes=box_torch,\n",
        "            masks=None,\n",
        "        )\n",
        "      low_res_masks, iou_predictions = sam_model.mask_decoder(\n",
        "        image_embeddings=image_embedding,\n",
        "        image_pe=sam_model.prompt_encoder.get_dense_pe(),\n",
        "        sparse_prompt_embeddings=sparse_embeddings,\n",
        "        dense_prompt_embeddings=dense_embeddings,\n",
        "        multimask_output=False,\n",
        "      )\n",
        "\n",
        "      upscaled_masks = sam_model.postprocess_masks(low_res_masks, input_size, original_image_size).to(device)\n",
        "      binary_mask = normalize(threshold(upscaled_masks, 0.0, 0))\n",
        "\n",
        "      gt_mask_resized = torch.from_numpy(np.resize(ground_truth_masks[k], (1, 1, ground_truth_masks[k].shape[0], ground_truth_masks[k].shape[1]))).to(device)\n",
        "      gt_binary_mask = torch.as_tensor(gt_mask_resized > 0, dtype=torch.float32)\n",
        "\n",
        "      loss = loss_fn(binary_mask, gt_binary_mask)\n",
        "      optimizer.zero_grad()\n",
        "      loss.backward()\n",
        "      optimizer.step()\n",
        "      # epoch_losses.append(loss.item())\n",
        "      epoch_train_losses.append(loss.item())\n",
        "\n",
        "    for k in tqdm(val_keys):\n",
        "      input_image = transformed_data[k]['image'].to(device)\n",
        "      input_size = transformed_data[k]['input_size']\n",
        "      original_image_size = transformed_data[k]['original_image_size']\n",
        "\n",
        "      # No grad here as we don't want to optimise the encoders\n",
        "      with torch.no_grad():\n",
        "        image_embedding = sam_model.image_encoder(input_image)\n",
        "\n",
        "        prompt_box = bbox_coords[k]\n",
        "        box = transform.apply_boxes(prompt_box, original_image_size)\n",
        "        box_torch = torch.as_tensor(box, dtype=torch.float, device=device)\n",
        "        box_torch = box_torch[None, :]\n",
        "\n",
        "        sparse_embeddings, dense_embeddings = sam_model.prompt_encoder(\n",
        "            points=None,\n",
        "            boxes=box_torch,\n",
        "            masks=None,\n",
        "        )\n",
        "      low_res_masks, iou_predictions = sam_model.mask_decoder(\n",
        "        image_embeddings=image_embedding,\n",
        "        image_pe=sam_model.prompt_encoder.get_dense_pe(),\n",
        "        sparse_prompt_embeddings=sparse_embeddings,\n",
        "        dense_prompt_embeddings=dense_embeddings,\n",
        "        multimask_output=False,\n",
        "      )\n",
        "\n",
        "      upscaled_masks = sam_model.postprocess_masks(low_res_masks, input_size, original_image_size).to(device)\n",
        "      binary_mask = normalize(threshold(upscaled_masks, 0.0, 0))\n",
        "\n",
        "      gt_mask_resized = torch.from_numpy(np.resize(ground_truth_masks[k], (1, 1, ground_truth_masks[k].shape[0], ground_truth_masks[k].shape[1]))).to(device)\n",
        "      gt_binary_mask = torch.as_tensor(gt_mask_resized > 0, dtype=torch.float32)\n",
        "\n",
        "      loss = loss_fn(binary_mask, gt_binary_mask)\n",
        "      optimizer.zero_grad()\n",
        "      loss.backward()\n",
        "      optimizer.step()\n",
        "      # epoch_losses.append(loss.item())\n",
        "      epoch_val_losses.append(loss.item())\n",
        "\n",
        "    train_losses.append(epoch_train_losses)\n",
        "    val_losses.append(epoch_val_losses)\n",
        "\n",
        "    train_mean_loss = mean(epoch_train_losses)\n",
        "    val_mean_loss = mean(epoch_val_losses)\n",
        "    print(f'EPOCH: {epoch}')\n",
        "    print(f'Train Loss: {train_mean_loss:.4f}')\n",
        "    print(f'Validation Loss: {val_mean_loss:.4f}')\n",
        "\n",
        "# Calculate mean losses for each epoch\n",
        "mean_train_losses = [mean(x) for x in train_losses]\n",
        "mean_val_losses = [mean(x) for x in val_losses]\n",
        "\n",
        "# Plot mean losses\n",
        "plt.plot(list(range(len(mean_train_losses))), mean_train_losses, label='Train Loss')\n",
        "plt.plot(list(range(len(mean_val_losses))), mean_val_losses, label='Validation Loss')\n",
        "plt.title('Mean epoch loss')\n",
        "plt.xlabel('Epoch Number')\n",
        "plt.ylabel('Loss')\n",
        "plt.legend()\n",
        "plt.show()"
      ],
      "metadata": {
        "colab": {
          "base_uri": "https://localhost:8080/",
          "height": 1000
        },
        "id": "80cnYJKkgXSN",
        "outputId": "d558c51d-97dd-4d4c-9eaa-07a0d9765f12"
      },
      "execution_count": null,
      "outputs": [
        {
          "output_type": "stream",
          "name": "stderr",
          "text": [
            "100%|██████████| 480/480 [03:53<00:00,  2.05it/s]\n",
            "100%|██████████| 120/120 [00:59<00:00,  2.02it/s]\n"
          ]
        },
        {
          "output_type": "stream",
          "name": "stdout",
          "text": [
            "EPOCH: 0\n",
            "Train Loss: 0.9731\n",
            "Validation Loss: 0.8297\n"
          ]
        },
        {
          "output_type": "stream",
          "name": "stderr",
          "text": [
            "100%|██████████| 480/480 [03:58<00:00,  2.02it/s]\n",
            "100%|██████████| 120/120 [00:59<00:00,  2.02it/s]\n"
          ]
        },
        {
          "output_type": "stream",
          "name": "stdout",
          "text": [
            "EPOCH: 1\n",
            "Train Loss: 0.8242\n",
            "Validation Loss: 0.8398\n"
          ]
        },
        {
          "output_type": "stream",
          "name": "stderr",
          "text": [
            "100%|██████████| 480/480 [03:58<00:00,  2.01it/s]\n",
            "100%|██████████| 120/120 [00:59<00:00,  2.01it/s]\n"
          ]
        },
        {
          "output_type": "stream",
          "name": "stdout",
          "text": [
            "EPOCH: 2\n",
            "Train Loss: 0.3330\n",
            "Validation Loss: 0.0375\n"
          ]
        },
        {
          "output_type": "stream",
          "name": "stderr",
          "text": [
            "100%|██████████| 480/480 [03:58<00:00,  2.01it/s]\n",
            "100%|██████████| 120/120 [00:59<00:00,  2.01it/s]\n"
          ]
        },
        {
          "output_type": "stream",
          "name": "stdout",
          "text": [
            "EPOCH: 3\n",
            "Train Loss: 0.0389\n",
            "Validation Loss: 0.0314\n"
          ]
        },
        {
          "output_type": "stream",
          "name": "stderr",
          "text": [
            "100%|██████████| 480/480 [03:58<00:00,  2.02it/s]\n",
            "100%|██████████| 120/120 [00:59<00:00,  2.02it/s]\n"
          ]
        },
        {
          "output_type": "stream",
          "name": "stdout",
          "text": [
            "EPOCH: 4\n",
            "Train Loss: 0.0277\n",
            "Validation Loss: 0.0166\n"
          ]
        },
        {
          "output_type": "stream",
          "name": "stderr",
          "text": [
            "100%|██████████| 480/480 [03:57<00:00,  2.02it/s]\n",
            "100%|██████████| 120/120 [00:59<00:00,  2.02it/s]\n"
          ]
        },
        {
          "output_type": "stream",
          "name": "stdout",
          "text": [
            "EPOCH: 5\n",
            "Train Loss: 0.0303\n",
            "Validation Loss: 0.0450\n"
          ]
        },
        {
          "output_type": "stream",
          "name": "stderr",
          "text": [
            "100%|██████████| 480/480 [03:58<00:00,  2.02it/s]\n",
            "100%|██████████| 120/120 [00:59<00:00,  2.02it/s]\n"
          ]
        },
        {
          "output_type": "stream",
          "name": "stdout",
          "text": [
            "EPOCH: 6\n",
            "Train Loss: 0.0648\n",
            "Validation Loss: 0.0773\n"
          ]
        },
        {
          "output_type": "stream",
          "name": "stderr",
          "text": [
            "100%|██████████| 480/480 [03:57<00:00,  2.02it/s]\n",
            "100%|██████████| 120/120 [00:59<00:00,  2.02it/s]\n"
          ]
        },
        {
          "output_type": "stream",
          "name": "stdout",
          "text": [
            "EPOCH: 7\n",
            "Train Loss: 0.0485\n",
            "Validation Loss: 0.0526\n"
          ]
        },
        {
          "output_type": "stream",
          "name": "stderr",
          "text": [
            "100%|██████████| 480/480 [03:58<00:00,  2.02it/s]\n",
            "100%|██████████| 120/120 [00:59<00:00,  2.01it/s]\n"
          ]
        },
        {
          "output_type": "stream",
          "name": "stdout",
          "text": [
            "EPOCH: 8\n",
            "Train Loss: 0.0380\n",
            "Validation Loss: 0.0572\n"
          ]
        },
        {
          "output_type": "stream",
          "name": "stderr",
          "text": [
            "100%|██████████| 480/480 [03:58<00:00,  2.01it/s]\n",
            "100%|██████████| 120/120 [00:59<00:00,  2.01it/s]\n"
          ]
        },
        {
          "output_type": "stream",
          "name": "stdout",
          "text": [
            "EPOCH: 9\n",
            "Train Loss: 0.0582\n",
            "Validation Loss: 0.0078\n"
          ]
        },
        {
          "output_type": "display_data",
          "data": {
            "text/plain": [
              "<Figure size 640x480 with 1 Axes>"
            ],
            "image/png": "[encoded data removed]"
          },
          "metadata": {}
        }
      ]
    },
    {
      "cell_type": "markdown",
      "source": [
        "# Predict"
      ],
      "metadata": {
        "id": "XZG1o2GwRRkN"
      }
    },
    {
      "cell_type": "code",
      "source": [
        "# Load up the model with default weights\n",
        "sam_model_orig = sam_model_registry[model_type](checkpoint=checkpoint)\n",
        "sam_model_orig.to(device);\n",
        "\n",
        "# Set up predictors for both tuned and original models\n",
        "from segment_anything import sam_model_registry, SamPredictor\n",
        "predictor_tuned = SamPredictor(sam_model)\n",
        "predictor_original = SamPredictor(sam_model_orig)\n",
        "\n",
        "# The model has not seen keys[21] (or keys[20]) since we only trained on keys[:20]\n",
        "k = keys[49]\n",
        "image = cv2.imread(f'image01/{k}.jpg')\n",
        "# image = cv2.imread(f'test/Control.jpg')\n",
        "image = cv2.cvtColor(image, cv2.COLOR_BGR2RGB)\n",
        "\n",
        "predictor_tuned.set_image(image)\n",
        "predictor_original.set_image(image)\n",
        "\n",
        "input_bbox = np.array(bbox_coords[k])\n",
        "\n",
        "masks_tuned, _, _ = predictor_tuned.predict(\n",
        "    point_coords=None,\n",
        "    box=input_bbox,\n",
        "    multimask_output=False,\n",
        ")\n",
        "print(masks_tuned)\n",
        "masks_orig, _, _ = predictor_original.predict(\n",
        "    point_coords=None,\n",
        "    box=input_bbox,\n",
        "    multimask_output=False,\n",
        ")\n",
        "print(masks_orig)"
      ],
      "metadata": {
        "colab": {
          "base_uri": "https://localhost:8080/"
        },
        "id": "IvvAJmvDRVLU",
        "outputId": "30698407-35b7-4397-d571-8a34a0968f3b"
      },
      "execution_count": null,
      "outputs": [
        {
          "output_type": "stream",
          "name": "stdout",
          "text": [
            "[[[False False False ... False False False]\n",
            "  [False False False ... False False False]\n",
            "  [False False False ... False False False]\n",
            "  ...\n",
            "  [False False False ... False  True  True]\n",
            "  [False False False ...  True  True  True]\n",
            "  [False False False ...  True  True  True]]]\n",
            "[[[False False False ... False False False]\n",
            "  [False False False ... False False False]\n",
            "  [False False False ...  True  True  True]\n",
            "  ...\n",
            "  [False False False ... False False False]\n",
            "  [False False False ... False False False]\n",
            "  [False False False ... False False False]]]\n"
          ]
        }
      ]
    },
    {
      "cell_type": "markdown",
      "source": [
        "# 保存模型"
      ],
      "metadata": {
        "id": "T6sY1YznRj5L"
      }
    },
    {
      "cell_type": "code",
      "source": [
        "import os\n",
        "\n",
        "save_dir = 'model/'\n",
        "os.makedirs(save_dir, exist_ok=True)\n",
        "torch.save(sam_model.state_dict(), os.path.join(save_dir, 'model_image01_1.pth')) # sam_model_orig.state_dict()\n",
        "\n",
        "torch.save(sam_model_orig.state_dict(), os.path.join(save_dir, 'model_orig_image01_1.pth'))"
      ],
      "metadata": {
        "id": "Kjr8SF7lRl_L"
      },
      "execution_count": null,
      "outputs": []
    },
    {
      "cell_type": "markdown",
      "source": [
        "# 测试"
      ],
      "metadata": {
        "id": "uFQpvDc_SCmL"
      }
    },
    {
      "cell_type": "code",
      "source": [
        "from PIL import Image\n",
        "import os\n",
        "\n",
        "# 获取test文件夹中的所有图像文件\n",
        "test_folder = 'test/'\n",
        "image_files = [file for file in os.listdir(test_folder) if file.endswith('.jpg')]\n",
        "\n",
        "# 循环处理每张图像\n",
        "for image_file in image_files:\n",
        "    image_path = os.path.join(test_folder, image_file)\n",
        "\n",
        "    image = cv2.imread(image_path)\n",
        "    if image is None:\n",
        "        print(f\"Error: Image {image_file} could not be read or does not exist.\")\n",
        "        continue\n",
        "    else:\n",
        "        image = cv2.cvtColor(image, cv2.COLOR_BGR2RGB)\n",
        "\n",
        "    predictor_tuned.set_image(image)\n",
        "    predictor_original.set_image(image)\n",
        "\n",
        "    input_bbox = np.array(bbox_coords[k])\n",
        "\n",
        "    masks_tuned, _, _ = predictor_tuned.predict(\n",
        "        point_coords=None,\n",
        "        box=input_bbox,\n",
        "        multimask_output=False,\n",
        "    )\n",
        "    print(masks_tuned)\n",
        "    masks_orig, _, _ = predictor_original.predict(\n",
        "        point_coords=None,\n",
        "        box=input_bbox,\n",
        "        multimask_output=False,\n",
        "    )\n",
        "    print(masks_orig)\n",
        "\n",
        "    # 将 True 像素保存为白色，False 像素保存为黑色\n",
        "    tuned_image = Image.fromarray((masks_tuned[0] * 255).astype(np.uint8), 'L')\n",
        "    orig_image = Image.fromarray((masks_orig[0]* 255).astype(np.uint8), 'L')\n",
        "\n",
        "    # 保存图像\n",
        "    tuned_image.save(f'tuned3/{image_file}')\n",
        "    orig_image.save(f'orig3/{image_file}')"
      ],
      "metadata": {
        "colab": {
          "base_uri": "https://localhost:8080/"
        },
        "id": "Eu5k_g9MSFKv",
        "outputId": "4ab18822-a96c-4916-80aa-e44879f81d84"
      },
      "execution_count": null,
      "outputs": [
        {
          "output_type": "stream",
          "name": "stdout",
          "text": [
            "[[[ True  True  True ... False False False]\n",
            "  [ True  True  True ... False False False]\n",
            "  [ True  True  True ... False False False]\n",
            "  ...\n",
            "  [False False False ... False False False]\n",
            "  [False False False ... False False False]\n",
            "  [False False False ... False False False]]]\n",
            "[[[False False False ... False False False]\n",
            "  [False False False ... False False False]\n",
            "  [False False False ... False False False]\n",
            "  ...\n",
            "  [False False False ... False False False]\n",
            "  [False False False ... False False False]\n",
            "  [False False False ... False False False]]]\n",
            "[[[False False False ... False False False]\n",
            "  [False False False ... False False False]\n",
            "  [False False False ... False False False]\n",
            "  ...\n",
            "  [False False False ... False  True  True]\n",
            "  [False False False ...  True  True  True]\n",
            "  [False False False ...  True  True  True]]]\n",
            "[[[False False False ... False False False]\n",
            "  [False False False ... False False False]\n",
            "  [False False False ... False False False]\n",
            "  ...\n",
            "  [False False False ... False False False]\n",
            "  [False False False ... False False False]\n",
            "  [False False False ... False False False]]]\n",
            "[[[False False False ... False False False]\n",
            "  [False False False ... False False False]\n",
            "  [False False False ... False False False]\n",
            "  ...\n",
            "  [False False False ...  True  True  True]\n",
            "  [False False False ...  True  True  True]\n",
            "  [False False False ...  True  True  True]]]\n",
            "[[[False False False ... False False False]\n",
            "  [False False False ... False False False]\n",
            "  [False False False ... False False False]\n",
            "  ...\n",
            "  [False False False ... False False False]\n",
            "  [False False False ... False False False]\n",
            "  [False False False ... False False False]]]\n",
            "[[[ True  True  True ... False False False]\n",
            "  [ True  True  True ... False False False]\n",
            "  [False False False ... False False False]\n",
            "  ...\n",
            "  [False False False ... False  True  True]\n",
            "  [False False False ...  True  True  True]\n",
            "  [False False False ...  True  True  True]]]\n",
            "[[[False False False ... False False False]\n",
            "  [False False False ... False False False]\n",
            "  [False False False ... False False False]\n",
            "  ...\n",
            "  [False False False ... False False False]\n",
            "  [False False False ... False False False]\n",
            "  [False False False ... False False False]]]\n",
            "[[[False False False ... False False False]\n",
            "  [False False False ... False False False]\n",
            "  [False False False ... False False False]\n",
            "  ...\n",
            "  [False False False ... False  True  True]\n",
            "  [False False False ...  True  True  True]\n",
            "  [False False False ...  True  True  True]]]\n",
            "[[[False False False ... False False False]\n",
            "  [False False False ... False False False]\n",
            "  [False False False ... False False False]\n",
            "  ...\n",
            "  [False False False ... False False False]\n",
            "  [False False False ... False False False]\n",
            "  [False False False ... False False False]]]\n",
            "[[[False False False ... False False False]\n",
            "  [False False False ... False False False]\n",
            "  [False False False ... False False False]\n",
            "  ...\n",
            "  [False False False ...  True  True  True]\n",
            "  [False False False ...  True  True  True]\n",
            "  [False False False ...  True  True  True]]]\n",
            "[[[False False False ... False False False]\n",
            "  [False False False ... False False False]\n",
            "  [False False False ... False False False]\n",
            "  ...\n",
            "  [False False False ... False False False]\n",
            "  [False False False ... False False False]\n",
            "  [False False False ... False False False]]]\n",
            "[[[False False False ... False False False]\n",
            "  [False False False ... False False False]\n",
            "  [False False False ... False False False]\n",
            "  ...\n",
            "  [False False False ...  True  True  True]\n",
            "  [False False False ...  True  True  True]\n",
            "  [False False False ...  True  True  True]]]\n",
            "[[[False False False ... False False False]\n",
            "  [False False False ... False False False]\n",
            "  [False False False ... False False False]\n",
            "  ...\n",
            "  [False False False ... False False False]\n",
            "  [False False False ... False False False]\n",
            "  [False False False ... False False False]]]\n",
            "[[[False False False ... False False False]\n",
            "  [False False False ... False False False]\n",
            "  [False False False ... False False False]\n",
            "  ...\n",
            "  [False False False ... False  True  True]\n",
            "  [False False False ...  True  True  True]\n",
            "  [False False False ...  True  True  True]]]\n",
            "[[[False False False ... False False False]\n",
            "  [False False False ... False False False]\n",
            "  [False False False ... False False False]\n",
            "  ...\n",
            "  [False False False ... False False False]\n",
            "  [False False False ... False False False]\n",
            "  [False False False ... False False False]]]\n",
            "[[[False False False ... False False False]\n",
            "  [False False False ... False False False]\n",
            "  [False False False ... False False False]\n",
            "  ...\n",
            "  [False False False ...  True  True  True]\n",
            "  [False False False ...  True  True  True]\n",
            "  [False False False ...  True  True  True]]]\n",
            "[[[False False False ... False False False]\n",
            "  [False False False ... False False False]\n",
            "  [False False False ... False False False]\n",
            "  ...\n",
            "  [False False False ... False False False]\n",
            "  [False False False ... False False False]\n",
            "  [False False False ... False False False]]]\n",
            "[[[False False False ... False False False]\n",
            "  [False False False ... False False False]\n",
            "  [False False False ... False False False]\n",
            "  ...\n",
            "  [False False False ...  True  True  True]\n",
            "  [False False False ...  True  True  True]\n",
            "  [False False False ...  True  True  True]]]\n",
            "[[[False False False ... False False False]\n",
            "  [False False False ... False False False]\n",
            "  [False False False ... False False False]\n",
            "  ...\n",
            "  [False False False ... False False False]\n",
            "  [False False False ... False False False]\n",
            "  [False False False ... False False False]]]\n",
            "[[[False False False ... False False False]\n",
            "  [False False False ... False False False]\n",
            "  [False False False ... False False False]\n",
            "  ...\n",
            "  [False False False ... False  True  True]\n",
            "  [False False False ...  True  True  True]\n",
            "  [False False False ...  True  True  True]]]\n",
            "[[[False False False ... False False False]\n",
            "  [False False False ... False False False]\n",
            "  [False False False ... False False False]\n",
            "  ...\n",
            "  [False False False ... False False False]\n",
            "  [False False False ... False False False]\n",
            "  [False False False ... False False False]]]\n",
            "[[[ True  True False ... False False False]\n",
            "  [ True  True False ... False False False]\n",
            "  [False False False ... False False False]\n",
            "  ...\n",
            "  [False False False ... False  True  True]\n",
            "  [False False False ...  True  True  True]\n",
            "  [False False False ...  True  True  True]]]\n",
            "[[[False False False ... False False False]\n",
            "  [False False False ... False False False]\n",
            "  [False False False ... False False False]\n",
            "  ...\n",
            "  [False False False ... False False False]\n",
            "  [False False False ... False False False]\n",
            "  [False False False ... False False False]]]\n",
            "[[[False False False ... False False False]\n",
            "  [False False False ... False False False]\n",
            "  [False False False ... False False False]\n",
            "  ...\n",
            "  [False False False ...  True  True  True]\n",
            "  [False False False ...  True  True  True]\n",
            "  [False False False ...  True  True  True]]]\n",
            "[[[False False False ... False False False]\n",
            "  [False False False ... False False False]\n",
            "  [False False False ... False False False]\n",
            "  ...\n",
            "  [False False False ... False False False]\n",
            "  [False False False ... False False False]\n",
            "  [False False False ... False False False]]]\n"
          ]
        }
      ]
    },
    {
      "cell_type": "markdown",
      "source": [
        "# 评估代码"
      ],
      "metadata": {
        "id": "yu0Py3OlTAyW"
      }
    },
    {
      "cell_type": "code",
      "source": [
        "from sklearn.metrics import average_precision_score\n",
        "\n",
        "# 初始化用于保存每个图像的 IoU、Dice、Precision、Recall、F1-Score 和 mAP 值的列表\n",
        "iou_values = []\n",
        "dice_values = []\n",
        "precision_values = []\n",
        "recall_values = []\n",
        "f1_values = []\n",
        "mAP_values = []\n",
        "\n",
        "# 循环处理每张图像\n",
        "for image_file in image_files:\n",
        "    image_path = os.path.join(test_folder, image_file)\n",
        "\n",
        "    image = cv2.imread(image_path)\n",
        "    if image is None:\n",
        "        print(f\"Error: Image {image_file} could not be read or does not exist.\")\n",
        "        continue\n",
        "\n",
        "    predictor_tuned.set_image(image)\n",
        "    input_bbox = np.array(bbox_coords[k])  # 使用当前图像文件名作为 key 来获取 bbox\n",
        "\n",
        "    masks_tuned, _, _ = predictor_tuned.predict(\n",
        "        point_coords=None,\n",
        "        box=input_bbox,\n",
        "        multimask_output=False,\n",
        "    )\n",
        "\n",
        "    # 将预测的 masks 转换为二值化形式\n",
        "    binarized_pred_masks = [mask > 0 for mask in masks_tuned]\n",
        "\n",
        "    # 读取对应的 Ground Truth mask\n",
        "    mask_file = image_file  # 构建 mask 文件名\n",
        "    mask_path = os.path.join('test_mask', mask_file)\n",
        "    mask = cv2.imread(mask_path, cv2.IMREAD_GRAYSCALE)\n",
        "    ground_truth_mask = mask > 0\n",
        "\n",
        "    # 计算预测 masks 和 Ground Truth 掩码之间的 IoU\n",
        "    intersection = np.logical_and(binarized_pred_masks[0], ground_truth_mask).sum()\n",
        "    union = np.logical_or(binarized_pred_masks[0], ground_truth_mask).sum()\n",
        "    iou = intersection / union if union > 0 else 0.0\n",
        "\n",
        "    # 计算 Dice 系数\n",
        "    dice = 2 * intersection / (binarized_pred_masks[0].sum() + ground_truth_mask.sum()) if (binarized_pred_masks[0].sum() + ground_truth_mask.sum()) > 0 else 0.0\n",
        "\n",
        "    # 计算 mAP\n",
        "    mAP = average_precision_score(ground_truth_mask.flatten(), binarized_pred_masks[0].flatten())\n",
        "\n",
        "    # 计算准确率和召回率\n",
        "    true_positive = intersection\n",
        "    false_positive = (binarized_pred_masks[0] & ~ground_truth_mask).sum()\n",
        "    false_negative = (~binarized_pred_masks[0] & ground_truth_mask).sum()\n",
        "\n",
        "    precision = true_positive / (true_positive + false_positive) if (true_positive + false_positive) > 0 else 0.0\n",
        "    recall = true_positive / (true_positive + false_negative) if (true_positive + false_negative) > 0 else 0.0\n",
        "\n",
        "    # 计算 F1-Score\n",
        "    f1 = 2 * (precision * recall) / (precision + recall) if (precision + recall) > 0 else 0.0\n",
        "\n",
        "    # 打印并保存各项指标值\n",
        "    print(f\"IoU for {image_file}: {iou}\")\n",
        "    print(f\"Dice for {image_file}: {dice}\")\n",
        "    print(f\"mAP for {image_file}: {mAP}\")\n",
        "    print(f\"Precision for {image_file}: {precision}\")\n",
        "    print(f\"Recall for {image_file}: {recall}\")\n",
        "    print(f\"F1-Score for {image_file}: {f1}\")\n",
        "\n",
        "    iou_values.append(iou)\n",
        "    dice_values.append(dice)\n",
        "    precision_values.append(precision)\n",
        "    recall_values.append(recall)\n",
        "    f1_values.append(f1)\n",
        "    mAP_values.append(mAP)\n",
        "\n",
        "# 计算平均值\n",
        "average_iou = np.mean(iou_values)\n",
        "average_dice = np.mean(dice_values)\n",
        "average_precision = np.mean(precision_values)\n",
        "average_recall = np.mean(recall_values)\n",
        "average_f1 = np.mean(f1_values)\n",
        "average_mAP = np.mean(mAP_values)\n",
        "\n",
        "# 打印平均值\n",
        "print(f\"Average IoU: {average_iou}\")\n",
        "print(f\"Average Dice: {average_dice}\")\n",
        "print(f\"Average Precision: {average_precision}\")\n",
        "print(f\"Average Recall: {average_recall}\")\n",
        "print(f\"Average F1-Score: {average_f1}\")\n",
        "print(f\"Average mAP: {average_mAP}\")\n",
        "\n",
        "print(\"Calculation complete.\")"
      ],
      "metadata": {
        "colab": {
          "base_uri": "https://localhost:8080/"
        },
        "id": "-yb-A6QcTESl",
        "outputId": "08a46312-884a-4d21-b819-fbb32e9d4400"
      },
      "execution_count": null,
      "outputs": [
        {
          "output_type": "stream",
          "name": "stdout",
          "text": [
            "IoU for P135.jpg: 0.043633225782246564\n",
            "Dice for P135.jpg: 0.08361793148074918\n",
            "mAP for P135.jpg: 0.02464114192367252\n",
            "Precision for P135.jpg: 0.10827669676938832\n",
            "Recall for P135.jpg: 0.0681072850784727\n",
            "F1-Score for P135.jpg: 0.08361793148074918\n",
            "IoU for P106.jpg: 0.027934159026325667\n",
            "Dice for P106.jpg: 0.05435009388691842\n",
            "mAP for P106.jpg: 0.014560772370649469\n",
            "Precision for P106.jpg: 0.06489785749875436\n",
            "Recall for P106.jpg: 0.0467516152189519\n",
            "F1-Score for P106.jpg: 0.05435009388691843\n",
            "IoU for P067.jpg: 0.01949646914338348\n",
            "Dice for P067.jpg: 0.03824725191989158\n",
            "mAP for P067.jpg: 0.012704318626981174\n",
            "Precision for P067.jpg: 0.04145810663764962\n",
            "Recall for P067.jpg: 0.03549799683219976\n",
            "F1-Score for P067.jpg: 0.03824725191989159\n",
            "IoU for P154.jpg: 0.04518891551988797\n",
            "Dice for P154.jpg: 0.08647033057638298\n",
            "mAP for P154.jpg: 0.041206018356557246\n",
            "Precision for P154.jpg: 0.18847579467595194\n",
            "Recall for P154.jpg: 0.05610538986224422\n",
            "F1-Score for P154.jpg: 0.086470330576383\n",
            "IoU for P012.jpg: 0.06867516646263175\n",
            "Dice for P012.jpg: 0.12852393059707748\n",
            "mAP for P012.jpg: 0.05051791357329623\n",
            "Precision for P012.jpg: 0.27710843373493976\n",
            "Recall for P012.jpg: 0.08366374449819941\n",
            "F1-Score for P012.jpg: 0.12852393059707748\n",
            "IoU for P095.jpg: 0.03298611111111111\n",
            "Dice for P095.jpg: 0.06386554621848739\n",
            "mAP for P095.jpg: 0.007335785541655836\n",
            "Precision for P095.jpg: 0.0435494433529797\n",
            "Recall for P095.jpg: 0.11971197119711971\n",
            "F1-Score for P095.jpg: 0.0638655462184874\n",
            "IoU for P158.jpg: 0.059293394777265744\n",
            "Dice for P158.jpg: 0.11194895591647332\n",
            "mAP for P158.jpg: 0.020449190403639152\n",
            "Precision for P158.jpg: 0.12981335126954768\n",
            "Recall for P158.jpg: 0.09840662842574889\n",
            "F1-Score for P158.jpg: 0.11194895591647334\n",
            "IoU for P080.jpg: 0.019779418466867194\n",
            "Dice for P080.jpg: 0.03879156238827315\n",
            "mAP for P080.jpg: 0.0045049366203149515\n",
            "Precision for P080.jpg: 0.023104770017035776\n",
            "Recall for P080.jpg: 0.12082405345211582\n",
            "F1-Score for P080.jpg: 0.03879156238827315\n",
            "IoU for Control.jpg: 0.017125633648444993\n",
            "Dice for Control.jpg: 0.033674568965517244\n",
            "mAP for Control.jpg: 0.003375320189873845\n",
            "Precision for Control.jpg: 0.022337383845604002\n",
            "Recall for Control.jpg: 0.06838074398249452\n",
            "F1-Score for Control.jpg: 0.03367456896551724\n",
            "IoU for P152.jpg: 0.04382878268228587\n",
            "Dice for P152.jpg: 0.08397695754213783\n",
            "mAP for P152.jpg: 0.051153645358291214\n",
            "Precision for P152.jpg: 0.2287840037200651\n",
            "Recall for P152.jpg: 0.051426779554719346\n",
            "F1-Score for P152.jpg: 0.08397695754213783\n",
            "IoU for P146.jpg: 0.012710360165578624\n",
            "Dice for P146.jpg: 0.025101669076438547\n",
            "mAP for P146.jpg: 0.9798777335509185\n",
            "Precision for P146.jpg: 0.9415861051941669\n",
            "Recall for P146.jpg: 0.012720390477139158\n",
            "F1-Score for P146.jpg: 0.025101669076438547\n",
            "IoU for P087.jpg: 0.019008825526137134\n",
            "Dice for P087.jpg: 0.037308461025982675\n",
            "mAP for P087.jpg: 0.003653856388179128\n",
            "Precision for P087.jpg: 0.02353336695242898\n",
            "Recall for P087.jpg: 0.08997429305912596\n",
            "F1-Score for P087.jpg: 0.037308461025982675\n",
            "IoU for P073.jpg: 0.07678444192967014\n",
            "Dice for P073.jpg: 0.14261803744501966\n",
            "mAP for P073.jpg: 0.034840816497248614\n",
            "Precision for P073.jpg: 0.16770413767850603\n",
            "Recall for P073.jpg: 0.12406040495699872\n",
            "F1-Score for P073.jpg: 0.14261803744501964\n",
            "Average IoU: 0.03741883878783356\n",
            "Average Dice: 0.07142271515687303\n",
            "Average Precision: 0.17389457318053986\n",
            "Average Recall: 0.07504856127657923\n",
            "Average F1-Score: 0.07142271515687305\n",
            "Average mAP: 0.09606318841548292\n",
            "Calculation complete.\n"
          ]
        }
      ]
    },
    {
      "cell_type": "code",
      "source": [
        "from sklearn.metrics import average_precision_score\n",
        "\n",
        "# 初始化用于保存每个图像的 IoU、Dice、Precision、Recall、F1-Score 和 mAP 值的列表\n",
        "iou_values = []\n",
        "dice_values = []\n",
        "precision_values = []\n",
        "recall_values = []\n",
        "f1_values = []\n",
        "mAP_values = []\n",
        "\n",
        "# 循环处理每张图像\n",
        "for image_file in image_files:\n",
        "    image_path = os.path.join(test_folder, image_file)\n",
        "\n",
        "    image = cv2.imread(image_path)\n",
        "    if image is None:\n",
        "        print(f\"Error: Image {image_file} could not be read or does not exist.\")\n",
        "        continue\n",
        "\n",
        "    predictor_original.set_image(image)\n",
        "    input_bbox = np.array(bbox_coords[k])  # 使用当前图像文件名作为 key 来获取 bbox\n",
        "\n",
        "    masks_orig, _, _ = predictor_original.predict(\n",
        "        point_coords=None,\n",
        "        box=input_bbox,\n",
        "        multimask_output=False,\n",
        "    )\n",
        "\n",
        "    # 将预测的 masks 转换为二值化形式\n",
        "    binarized_pred_masks = [mask > 0 for mask in masks_orig]\n",
        "\n",
        "    # 读取对应的 Ground Truth mask\n",
        "    mask_file = image_file  # 构建 mask 文件名\n",
        "    mask_path = os.path.join('test_mask', mask_file)\n",
        "    mask = cv2.imread(mask_path, cv2.IMREAD_GRAYSCALE)\n",
        "    ground_truth_mask = mask > 0\n",
        "\n",
        "    # 计算预测 masks 和 Ground Truth 掩码之间的 IoU\n",
        "    intersection = np.logical_and(binarized_pred_masks[0], ground_truth_mask).sum()\n",
        "    union = np.logical_or(binarized_pred_masks[0], ground_truth_mask).sum()\n",
        "    iou = intersection / union if union > 0 else 0.0\n",
        "\n",
        "    # 计算 Dice 系数\n",
        "    dice = 2 * intersection / (binarized_pred_masks[0].sum() + ground_truth_mask.sum()) if (binarized_pred_masks[0].sum() + ground_truth_mask.sum()) > 0 else 0.0\n",
        "\n",
        "    # 计算 mAP\n",
        "    mAP = average_precision_score(ground_truth_mask.flatten(), binarized_pred_masks[0].flatten())\n",
        "\n",
        "    # 计算准确率和召回率\n",
        "    true_positive = intersection\n",
        "    false_positive = (binarized_pred_masks[0] & ~ground_truth_mask).sum()\n",
        "    false_negative = (~binarized_pred_masks[0] & ground_truth_mask).sum()\n",
        "\n",
        "    precision = true_positive / (true_positive + false_positive) if (true_positive + false_positive) > 0 else 0.0\n",
        "    recall = true_positive / (true_positive + false_negative) if (true_positive + false_negative) > 0 else 0.0\n",
        "\n",
        "    # 计算 F1-Score\n",
        "    f1 = 2 * (precision * recall) / (precision + recall) if (precision + recall) > 0 else 0.0\n",
        "\n",
        "    # 打印并保存各项指标值\n",
        "    print(f\"IoU for {image_file}: {iou}\")\n",
        "    print(f\"Dice for {image_file}: {dice}\")\n",
        "    print(f\"mAP for {image_file}: {mAP}\")\n",
        "    print(f\"Precision for {image_file}: {precision}\")\n",
        "    print(f\"Recall for {image_file}: {recall}\")\n",
        "    print(f\"F1-Score for {image_file}: {f1}\")\n",
        "\n",
        "    iou_values.append(iou)\n",
        "    dice_values.append(dice)\n",
        "    precision_values.append(precision)\n",
        "    recall_values.append(recall)\n",
        "    f1_values.append(f1)\n",
        "    mAP_values.append(mAP)\n",
        "\n",
        "# 计算平均值\n",
        "average_iou = np.mean(iou_values)\n",
        "average_dice = np.mean(dice_values)\n",
        "average_precision = np.mean(precision_values)\n",
        "average_recall = np.mean(recall_values)\n",
        "average_f1 = np.mean(f1_values)\n",
        "average_mAP = np.mean(mAP_values)\n",
        "\n",
        "# 打印平均值\n",
        "print(f\"Average IoU: {average_iou}\")\n",
        "print(f\"Average Dice: {average_dice}\")\n",
        "print(f\"Average Precision: {average_precision}\")\n",
        "print(f\"Average Recall: {average_recall}\")\n",
        "print(f\"Average F1-Score: {average_f1}\")\n",
        "print(f\"Average mAP: {average_mAP}\")\n",
        "\n",
        "print(\"Calculation complete.\")"
      ],
      "metadata": {
        "colab": {
          "base_uri": "https://localhost:8080/"
        },
        "id": "ABO81Fg2TNpu",
        "outputId": "3860d0d2-4fc3-4d48-b590-0f8378356601"
      },
      "execution_count": null,
      "outputs": [
        {
          "output_type": "stream",
          "name": "stdout",
          "text": [
            "IoU for P135.jpg: 0.016097564938644716\n",
            "Dice for P135.jpg: 0.03168507728805893\n",
            "mAP for P135.jpg: 0.01660283104440503\n",
            "Precision for P135.jpg: 0.016157685967742873\n",
            "Recall for P135.jpg: 0.8122511126727571\n",
            "F1-Score for P135.jpg: 0.03168507728805892\n",
            "IoU for P106.jpg: 0.011957957679560573\n",
            "Dice for P106.jpg: 0.0236333092473138\n",
            "mAP for P106.jpg: 0.011978477984954463\n",
            "Precision for P106.jpg: 0.011969400833995465\n",
            "Recall for P106.jpg: 0.9259691313711415\n",
            "F1-Score for P106.jpg: 0.0236333092473138\n",
            "IoU for P067.jpg: 0.006581359257415595\n",
            "Dice for P067.jpg: 0.013076656341561611\n",
            "mAP for P067.jpg: 0.009015317546564542\n",
            "Precision for P067.jpg: 0.0066210182864536015\n",
            "Recall for P067.jpg: 0.5235255753284264\n",
            "F1-Score for P067.jpg: 0.013076656341561613\n",
            "IoU for P154.jpg: 0.030834379067283067\n",
            "Dice for P154.jpg: 0.05982411858475762\n",
            "mAP for P154.jpg: 0.031132760730329577\n",
            "Precision for P154.jpg: 0.03095963268589656\n",
            "Recall for P154.jpg: 0.8840109669653604\n",
            "F1-Score for P154.jpg: 0.059824118584757634\n",
            "IoU for P012.jpg: 0.0230391664662381\n",
            "Dice for P012.jpg: 0.045040634261969734\n",
            "mAP for P012.jpg: 0.02510661171677147\n",
            "Precision for P012.jpg: 0.02324975846549002\n",
            "Recall for P012.jpg: 0.7177985522534648\n",
            "F1-Score for P012.jpg: 0.04504063426196973\n",
            "IoU for P095.jpg: 0.0015704453592117272\n",
            "Dice for P095.jpg: 0.0031359658553991965\n",
            "mAP for P095.jpg: 0.001901669791828754\n",
            "Precision for P095.jpg: 0.00157204303831986\n",
            "Recall for P095.jpg: 0.6071107110711071\n",
            "F1-Score for P095.jpg: 0.0031359658553991965\n",
            "IoU for P158.jpg: 0.007111992616486118\n",
            "Dice for P158.jpg: 0.014123538729807194\n",
            "mAP for P158.jpg: 0.007434203883955555\n",
            "Precision for P158.jpg: 0.007126459330255282\n",
            "Recall for P158.jpg: 0.7779477374123646\n",
            "F1-Score for P158.jpg: 0.014123538729807195\n",
            "IoU for P080.jpg: 0.0014835045395470165\n",
            "Dice for P080.jpg: 0.0029626140277349625\n",
            "mAP for P080.jpg: 0.0016170337193215248\n",
            "Precision for P080.jpg: 0.0014843850330486816\n",
            "Recall for P080.jpg: 0.7143652561247216\n",
            "F1-Score for P080.jpg: 0.0029626140277349625\n",
            "IoU for Control.jpg: 0.0019635877703875547\n",
            "Dice for Control.jpg: 0.003919479299156997\n",
            "mAP for Control.jpg: 0.001965499696227613\n",
            "Precision for Control.jpg: 0.001963924999328223\n",
            "Recall for Control.jpg: 0.9195842450765864\n",
            "F1-Score for Control.jpg: 0.003919479299156998\n",
            "IoU for P152.jpg: 0.028263522946558865\n",
            "Dice for P152.jpg: 0.05497330658111419\n",
            "mAP for P152.jpg: 0.03345435061777743\n",
            "Precision for P152.jpg: 0.028738251312152477\n",
            "Recall for P152.jpg: 0.6311278352670638\n",
            "F1-Score for P152.jpg: 0.05497330658111419\n",
            "IoU for P146.jpg: 0.9024483304063254\n",
            "Dice for P146.jpg: 0.948723091169136\n",
            "mAP for P146.jpg: 0.9833229410556534\n",
            "Precision for P146.jpg: 0.9835927864816633\n",
            "Recall for P146.jpg: 0.9162411041383051\n",
            "F1-Score for P146.jpg: 0.948723091169136\n",
            "IoU for P087.jpg: 0.0015769975398376593\n",
            "Dice for P087.jpg: 0.0031490290685812885\n",
            "mAP for P087.jpg: 0.0015909005068621767\n",
            "Precision for P087.jpg: 0.001577343527175689\n",
            "Recall for P087.jpg: 0.877892030848329\n",
            "F1-Score for P087.jpg: 0.003149029068581289\n",
            "IoU for P073.jpg: 0.009737725778105005\n",
            "Dice for P073.jpg: 0.01928763386670752\n",
            "mAP for P073.jpg: 0.012501095317078697\n",
            "Precision for P073.jpg: 0.009810699897111867\n",
            "Recall for P073.jpg: 0.5669397981986862\n",
            "F1-Score for P073.jpg: 0.01928763386670752\n",
            "Average IoU: 0.08020511802812319\n",
            "Average Dice: 0.09411803494779226\n",
            "Average Precision: 0.08652487614297184\n",
            "Average Recall: 0.7595972351329472\n",
            "Average F1-Score: 0.09411803494779226\n",
            "Average mAP: 0.08750951489321003\n",
            "Calculation complete.\n"
          ]
        }
      ]
    },
    {
      "cell_type": "markdown",
      "source": [
        "# 下载文件"
      ],
      "metadata": {
        "id": "jG1rSDcITZoe"
      }
    },
    {
      "cell_type": "code",
      "source": [
        "import shutil\n",
        "\n",
        "# 指定要下载的文件夹路径\n",
        "mask_folder_path = \"tuned3/\"  # 根据你实际的文件夹路径进行修改\n",
        "\n",
        "# 指定zip文件名\n",
        "zip_file_name = \"tuned3.zip\"\n",
        "\n",
        "# 将文件夹打包成zip文件\n",
        "shutil.make_archive(\"tuned3\", 'zip', mask_folder_path)"
      ],
      "metadata": {
        "colab": {
          "base_uri": "https://localhost:8080/",
          "height": 35
        },
        "id": "OLk5EqxKTcY6",
        "outputId": "1592d86f-e314-4f21-abc3-a3788a08bd2c"
      },
      "execution_count": null,
      "outputs": [
        {
          "output_type": "execute_result",
          "data": {
            "text/plain": [
              "'/content/tuned3.zip'"
            ],
            "application/vnd.google.colaboratory.intrinsic+json": {
              "type": "string"
            }
          },
          "metadata": {},
          "execution_count": 115
        }
      ]
    },
    {
      "cell_type": "code",
      "source": [
        "import shutil\n",
        "\n",
        "# 指定要下载的文件夹路径\n",
        "mask_folder_path = \"orig/\"  # 根据你实际的文件夹路径进行修改\n",
        "\n",
        "# 指定zip文件名\n",
        "zip_file_name = \"orig.zip\"\n",
        "\n",
        "# 将文件夹打包成zip文件\n",
        "shutil.make_archive(\"orig\", 'zip', mask_folder_path)"
      ],
      "metadata": {
        "colab": {
          "base_uri": "https://localhost:8080/",
          "height": 35
        },
        "id": "cY1jgN2dTsaq",
        "outputId": "4a745bce-f48e-4739-e0c1-237368d51584"
      },
      "execution_count": null,
      "outputs": [
        {
          "output_type": "execute_result",
          "data": {
            "text/plain": [
              "'/content/orig.zip'"
            ],
            "application/vnd.google.colaboratory.intrinsic+json": {
              "type": "string"
            }
          },
          "metadata": {},
          "execution_count": 27
        }
      ]
    },
    {
      "cell_type": "code",
      "source": [
        "from google.colab import files\n",
        "\n",
        "# 下载zip文件\n",
        "files.download(zip_file_name)"
      ],
      "metadata": {
        "colab": {
          "base_uri": "https://localhost:8080/",
          "height": 17
        },
        "id": "WrEkyIhBTdTF",
        "outputId": "7eaa74f0-bbdb-454f-e256-d1d62ff0b8d9"
      },
      "execution_count": null,
      "outputs": [
        {
          "output_type": "display_data",
          "data": {
            "text/plain": [
              "<IPython.core.display.Javascript object>"
            ],
            "application/javascript": [
              "\n",
              "    async function download(id, filename, size) {\n",
              "      if (!google.colab.kernel.accessAllowed) {\n",
              "        return;\n",
              "      }\n",
              "      const div = document.createElement('div');\n",
              "      const label = document.createElement('label');\n",
              "      label.textContent = `Downloading \"${filename}\": `;\n",
              "      div.appendChild(label);\n",
              "      const progress = document.createElement('progress');\n",
              "      progress.max = size;\n",
              "      div.appendChild(progress);\n",
              "      document.body.appendChild(div);\n",
              "\n",
              "      const buffers = [];\n",
              "      let downloaded = 0;\n",
              "\n",
              "      const channel = await google.colab.kernel.comms.open(id);\n",
              "      // Send a message to notify the kernel that we're ready.\n",
              "      channel.send({})\n",
              "\n",
              "      for await (const message of channel.messages) {\n",
              "        // Send a message to notify the kernel that we're ready.\n",
              "        channel.send({})\n",
              "        if (message.buffers) {\n",
              "          for (const buffer of message.buffers) {\n",
              "            buffers.push(buffer);\n",
              "            downloaded += buffer.byteLength;\n",
              "            progress.value = downloaded;\n",
              "          }\n",
              "        }\n",
              "      }\n",
              "      const blob = new Blob(buffers, {type: 'application/binary'});\n",
              "      const a = document.createElement('a');\n",
              "      a.href = window.URL.createObjectURL(blob);\n",
              "      a.download = filename;\n",
              "      div.appendChild(a);\n",
              "      a.click();\n",
              "      div.remove();\n",
              "    }\n",
              "  "
            ]
          },
          "metadata": {}
        },
        {
          "output_type": "display_data",
          "data": {
            "text/plain": [
              "<IPython.core.display.Javascript object>"
            ],
            "application/javascript": [
              "download(\"download_8f876be1-3ab4-419b-a3de-ba1851dccd01\", \"tuned3.zip\", 1152611)"
            ]
          },
          "metadata": {}
        }
      ]
    }
  ]
}