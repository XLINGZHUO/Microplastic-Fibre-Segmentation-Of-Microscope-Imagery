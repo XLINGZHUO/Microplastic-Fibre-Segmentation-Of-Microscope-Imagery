{
  "nbformat": 4,
  "nbformat_minor": 0,
  "metadata": {
    "colab": {
      "provenance": []
    },
    "kernelspec": {
      "name": "python3",
      "display_name": "Python 3"
    },
    "language_info": {
      "name": "python"
    }
  },
  "cells": [
    {
      "cell_type": "code",
      "execution_count": null,
      "metadata": {
        "colab": {
          "base_uri": "https://localhost:8080/"
        },
        "id": "7hkS7_xOVNZz",
        "outputId": "afc75592-697e-4112-9818-7629ed8decde"
      },
      "outputs": [
        {
          "output_type": "stream",
          "name": "stdout",
          "text": [
            "Mask image mask_P041_usp_data_interval_4_3_8612C7D2-DACE-43AD-AED4-7C87FCDBCEDE.jpeg saved successfully.\n"
          ]
        }
      ],
      "source": [
        "import os\n",
        "import cv2\n",
        "import numpy as np\n",
        "\n",
        "# 加载图像数据集\n",
        "dataset_path = \"data\"\n",
        "image_files = os.listdir(dataset_path)  # 获取文件夹中的所有文件名\n",
        "image_files = [file for file in image_files if file.endswith(\".jpg\")]  # 仅选择以.jpg结尾的文件\n",
        "\n",
        "# 定义高斯滤波器参数\n",
        "kernel_size = (5, 5)  # 滤波器大小\n",
        "sigma = 3.0  # 标准差\n",
        "\n",
        "# 定义二值化参数\n",
        "threshold = 100  # 阈值\n",
        "\n",
        "# 生成掩码图像\n",
        "masks = []\n",
        "for img_file in image_files:\n",
        "    img_path = dataset_path + \"/\" + img_file\n",
        "    img = cv2.imread(img_path)\n",
        "\n",
        "    # 进行高斯滤波\n",
        "    blurred = cv2.GaussianBlur(img, kernel_size, sigma)\n",
        "\n",
        "    # 将图像转换为灰度图像\n",
        "    gray = cv2.cvtColor(blurred, cv2.COLOR_BGR2GRAY)\n",
        "\n",
        "    # 二值化图像\n",
        "    _, binary = cv2.threshold(gray, threshold, 255, cv2.THRESH_BINARY)\n",
        "\n",
        "    # 使用形态学操作去除大面积黑色区域\n",
        "    kernel = cv2.getStructuringElement(cv2.MORPH_ELLIPSE, (15, 15))\n",
        "    opening = cv2.morphologyEx(binary, cv2.MORPH_OPEN, kernel)\n",
        "\n",
        "    # 反转图像的黑白色调\n",
        "    inverted = cv2.bitwise_not(opening)\n",
        "\n",
        "    # 连通组件标记\n",
        "    _, labels, stats, _ = cv2.connectedComponentsWithStats(inverted, connectivity=8)\n",
        "\n",
        "    # 根据连通组件的像素数量进行区域过滤\n",
        "    filtered_mask = np.zeros_like(inverted)\n",
        "    for label in range(1, np.max(labels)+1):\n",
        "        if stats[label, cv2.CC_STAT_AREA] < 2500:\n",
        "            filtered_mask[labels == label] = 255\n",
        "\n",
        "    # 保存掩码图像\n",
        "    mask_filename = \"mask_\" + img_file\n",
        "    mask_path = \"mask/\" + mask_filename\n",
        "    cv2.imwrite(mask_path, filtered_mask)\n",
        "\n",
        "    # 添加到掩码列表\n",
        "    masks.append(inverted)\n",
        "\n",
        "    print(\"Mask image\", mask_filename, \"saved successfully.\")\n",
        "\n",
        "# 显示结果\n",
        "#for i in range(len(images)):\n",
        "#    cv2.imshow(\"Original Image\", images[i])\n",
        "#    cv2.imshow(\"Mask\", masks[i])\n",
        "#    cv2.waitKey(0)\n",
        "#    cv2.destroyAllWindows()"
      ]
    },
    {
      "cell_type": "code",
      "source": [
        "import zipfile\n",
        "\n",
        "zip_file_name = \"UNet-image001.zip\" # image 50张图像; image1 600张图像; image2 650张图像; test 13张图像\n",
        "\n",
        "with zipfile.ZipFile(zip_file_name, 'r') as zip_ref:\n",
        "    zip_ref.extractall()"
      ],
      "metadata": {
        "id": "9FqXQ5pZUp1-"
      },
      "execution_count": null,
      "outputs": []
    },
    {
      "cell_type": "markdown",
      "source": [
        "# 阈值分割"
      ],
      "metadata": {
        "id": "h5NamK72i40n"
      }
    },
    {
      "cell_type": "code",
      "source": [
        "import os\n",
        "import cv2\n",
        "import numpy as np\n",
        "\n",
        "# 加载图像数据集\n",
        "dataset_path = \"test/\"\n",
        "image_files = os.listdir(dataset_path)  # 获取文件夹中的所有文件名\n",
        "image_files = [file for file in image_files if file.endswith(\".jpg\")]  # 仅选择以.jpg结尾的文件\n",
        "\n",
        "# 定义高斯滤波器参数\n",
        "kernel_size = (5, 5)  # 滤波器大小\n",
        "sigma = 3.0  # 标准差\n",
        "\n",
        "# 定义二值化参数\n",
        "threshold = 180  # 阈值\n",
        "\n",
        "# 生成掩码图像\n",
        "masks = []\n",
        "for img_file in image_files:\n",
        "    img_path = dataset_path + \"/\" + img_file\n",
        "    img = cv2.imread(img_path)\n",
        "\n",
        "    # 进行高斯滤波\n",
        "    blurred = cv2.GaussianBlur(img, kernel_size, sigma)\n",
        "\n",
        "    # 将图像转换为灰度图像\n",
        "    gray = cv2.cvtColor(blurred, cv2.COLOR_BGR2GRAY)\n",
        "\n",
        "    # 二值化图像\n",
        "    _, binary = cv2.threshold(gray, threshold, 255, cv2.THRESH_BINARY)\n",
        "\n",
        "    # 使用形态学操作去除大面积黑色区域\n",
        "    kernel = cv2.getStructuringElement(cv2.MORPH_ELLIPSE, (5, 5))\n",
        "    opening = cv2.morphologyEx(binary, cv2.MORPH_OPEN, kernel)\n",
        "\n",
        "\n",
        "    # # 连通组件标记\n",
        "    # _, labels, stats, _ = cv2.connectedComponentsWithStats(opening, connectivity=8)\n",
        "\n",
        "    # # 根据连通组件的像素数量进行区域过滤\n",
        "    # filtered_mask = np.zeros_like(opening)\n",
        "    # for label in range(1, np.max(labels)+1):\n",
        "    #     if stats[label, cv2.CC_STAT_AREA] < 7500:\n",
        "    #         filtered_mask[labels == label] = 255\n",
        "\n",
        "    # 保存掩码图像\n",
        "    mask_filename = img_file\n",
        "    mask_path = \"mask1/\" + mask_filename\n",
        "    cv2.imwrite(mask_path, opening)\n",
        "\n",
        "    # # 添加到掩码列表\n",
        "    # masks.append(inverted)\n",
        "\n",
        "    print(\"Mask image\", mask_filename, \"saved successfully.\")\n",
        "\n",
        "# 显示结果\n",
        "#for i in range(len(images)):\n",
        "#    cv2.imshow(\"Original Image\", images[i])\n",
        "#    cv2.imshow(\"Mask\", masks[i])\n",
        "#    cv2.waitKey(0)\n",
        "#    cv2.destroyAllWindows()"
      ],
      "metadata": {
        "id": "_zJm9XyQhJWg"
      },
      "execution_count": null,
      "outputs": []
    },
    {
      "cell_type": "markdown",
      "source": [
        "# 边缘检测"
      ],
      "metadata": {
        "id": "BGc5mPrqjN99"
      }
    },
    {
      "cell_type": "code",
      "source": [
        "import os\n",
        "import cv2\n",
        "import numpy as np\n",
        "\n",
        "# 加载图像数据集\n",
        "dataset_path = \"test/\"\n",
        "image_files = os.listdir(dataset_path)\n",
        "image_files = [file for file in image_files if file.endswith(\".jpg\")]\n",
        "\n",
        "# 定义高斯滤波器参数\n",
        "kernel_size = (5, 5)\n",
        "sigma = 3.0\n",
        "\n",
        "# 生成掩码图像\n",
        "masks = []\n",
        "for img_file in image_files:\n",
        "    img_path = dataset_path + \"/\" + img_file\n",
        "    img = cv2.imread(img_path)\n",
        "\n",
        "    # 进行高斯滤波\n",
        "    blurred = cv2.GaussianBlur(img, kernel_size, sigma)\n",
        "\n",
        "    # 将图像转换为灰度图像\n",
        "    gray = cv2.cvtColor(blurred, cv2.COLOR_BGR2GRAY)\n",
        "\n",
        "    # 使用Canny边缘检测\n",
        "    edges = cv2.Canny(gray, threshold1=10, threshold2=160)\n",
        "\n",
        "    # 保存掩码图像\n",
        "    mask_filename = img_file\n",
        "    mask_path = \"mask2/\" + mask_filename\n",
        "    cv2.imwrite(mask_path, edges)\n",
        "\n",
        "    print(\"Mask image\", mask_filename, \"saved successfully.\")"
      ],
      "metadata": {
        "id": "rPnMKXMfjP-g"
      },
      "execution_count": null,
      "outputs": []
    },
    {
      "cell_type": "markdown",
      "source": [
        "# 特征提取"
      ],
      "metadata": {
        "id": "Mlccq1oLm2A0"
      }
    },
    {
      "cell_type": "markdown",
      "source": [
        "局部二值模式（Local Binary Pattern，LBP）或灰度共生矩阵（Gray Level Co-occurrence Matrix，GLCM）"
      ],
      "metadata": {
        "id": "i3vnzzKxn4ap"
      }
    },
    {
      "cell_type": "code",
      "source": [
        "import os\n",
        "import cv2\n",
        "import numpy as np\n",
        "from skimage.feature import local_binary_pattern\n",
        "\n",
        "# 加载图像数据集\n",
        "dataset_path = \"test/\"\n",
        "image_files = os.listdir(dataset_path)\n",
        "image_files = [file for file in image_files if file.endswith(\".jpg\")]\n",
        "\n",
        "# 定义LBP特征提取的半径和邻域点数\n",
        "radius = 4\n",
        "neighbors = 10\n",
        "\n",
        "# 生成掩码图像\n",
        "masks = []\n",
        "for img_file in image_files:\n",
        "    img_path = dataset_path + \"/\" + img_file\n",
        "    img = cv2.imread(img_path, cv2.IMREAD_GRAYSCALE)\n",
        "\n",
        "    # 使用LBP特征提取\n",
        "    lbp_image = local_binary_pattern(img, neighbors, radius, method='uniform')\n",
        "\n",
        "    # 将LBP图像转换为二值图像\n",
        "    binary_lbp = (lbp_image > 0).astype(np.uint8) * 255\n",
        "\n",
        "    # 使用形态学操作去除大面积黑色区域\n",
        "    kernel = cv2.getStructuringElement(cv2.MORPH_ELLIPSE, (2, 2))\n",
        "    opening = cv2.morphologyEx(binary_lbp, cv2.MORPH_OPEN, kernel)\n",
        "\n",
        "    # 颠倒黑白像素\n",
        "    inverted_mask = 255 - opening\n",
        "\n",
        "    # 保存掩码图像\n",
        "    mask_filename = img_file\n",
        "    mask_path = \"mask3/\" + mask_filename\n",
        "    cv2.imwrite(mask_path, inverted_mask)\n",
        "\n",
        "    print(\"Mask image\", mask_filename, \"saved successfully.\")"
      ],
      "metadata": {
        "id": "HZmJ0Elen0Zc"
      },
      "execution_count": null,
      "outputs": []
    },
    {
      "cell_type": "markdown",
      "source": [
        "# K均值聚类（K-means Clustering）"
      ],
      "metadata": {
        "id": "VBl9wkUp33LQ"
      }
    },
    {
      "cell_type": "code",
      "source": [
        "import os\n",
        "import cv2\n",
        "import numpy as np\n",
        "\n",
        "# 加载图像数据集\n",
        "dataset_path = \"test/\"\n",
        "image_files = os.listdir(dataset_path)\n",
        "image_files = [file for file in image_files if file.endswith(\".jpg\")]\n",
        "\n",
        "# 生成掩码图像\n",
        "masks = []\n",
        "for img_file in image_files:\n",
        "    img_path = dataset_path + \"/\" + img_file\n",
        "    img = cv2.imread(img_path)\n",
        "\n",
        "    # 将图像转换为一维数组\n",
        "    img_flat = img.reshape((-1, 3))\n",
        "\n",
        "    # 使用K均值聚类分割图像\n",
        "    k = 2  # 聚类数\n",
        "    criteria = (cv2.TERM_CRITERIA_EPS + cv2.TERM_CRITERIA_MAX_ITER, 100, 0.2)\n",
        "    _, labels, centers = cv2.kmeans(img_flat.astype(np.float32), k, None, criteria, 10, cv2.KMEANS_RANDOM_CENTERS)\n",
        "\n",
        "    # 将标签图像转换为掩码图像\n",
        "    mask = labels.reshape(img.shape[:2])\n",
        "    mask = np.uint8(mask)\n",
        "\n",
        "    # 将掩码图像二值化\n",
        "    _, binary_mask = cv2.threshold(mask, 0, 255, cv2.THRESH_BINARY + cv2.THRESH_OTSU)\n",
        "\n",
        "    # 使用形态学操作去除噪声\n",
        "    kernel = cv2.getStructuringElement(cv2.MORPH_ELLIPSE, (5, 5))\n",
        "    opening = cv2.morphologyEx(binary_mask, cv2.MORPH_OPEN, kernel)\n",
        "\n",
        "    # 保存掩码图像\n",
        "    mask_filename = img_file\n",
        "    mask_path = \"mask4/\" + mask_filename\n",
        "    cv2.imwrite(mask_path, opening)\n",
        "\n",
        "    print(\"Mask image\", mask_filename, \"saved successfully.\")"
      ],
      "metadata": {
        "id": "e9cw_KIx34io"
      },
      "execution_count": null,
      "outputs": []
    },
    {
      "cell_type": "markdown",
      "source": [
        "# 轮廓检测方法（如cv2.findContours()函数）"
      ],
      "metadata": {
        "id": "AkXTCEgm681C"
      }
    },
    {
      "cell_type": "code",
      "source": [
        "import os\n",
        "import cv2\n",
        "import numpy as np\n",
        "\n",
        "# 加载图像数据集\n",
        "dataset_path = \"test/\"\n",
        "image_files = os.listdir(dataset_path)\n",
        "image_files = [file for file in image_files if file.endswith(\".jpg\")]\n",
        "\n",
        "# 生成掩码图像\n",
        "masks = []\n",
        "for img_file in image_files:\n",
        "    img_path = dataset_path + \"/\" + img_file\n",
        "    img = cv2.imread(img_path, cv2.IMREAD_GRAYSCALE)\n",
        "\n",
        "    # 使用Canny边缘检测\n",
        "    edges = cv2.Canny(img, threshold1=20, threshold2=160)\n",
        "\n",
        "    # 找到图像中的轮廓\n",
        "    contours, _ = cv2.findContours(edges, cv2.RETR_EXTERNAL, cv2.CHAIN_APPROX_SIMPLE)\n",
        "\n",
        "    # 创建一个全黑的掩码图像\n",
        "    mask = np.zeros_like(img)\n",
        "\n",
        "    # 将找到的轮廓绘制到掩码图像上\n",
        "    cv2.drawContours(mask, contours, -1, 255, thickness=cv2.FILLED)\n",
        "\n",
        "    # # 使用形态学操作去除噪声\n",
        "    # kernel = cv2.getStructuringElement(cv2.MORPH_ELLIPSE, (5, 5))\n",
        "    # opening = cv2.morphologyEx(mask, cv2.MORPH_OPEN, kernel)\n",
        "\n",
        "    # 保存掩码图像\n",
        "    mask_filename = img_file\n",
        "    mask_path = \"mask5/\" + mask_filename\n",
        "    cv2.imwrite(mask_path, mask)\n",
        "\n",
        "    print(\"Mask image\", mask_filename, \"saved successfully.\")"
      ],
      "metadata": {
        "id": "EFjsGkQ965nH"
      },
      "execution_count": null,
      "outputs": []
    },
    {
      "cell_type": "markdown",
      "source": [
        "# 最终使用的传统方法，结合到一起的"
      ],
      "metadata": {
        "id": "t5PnV4-LmlRs"
      }
    },
    {
      "cell_type": "code",
      "source": [
        "import os\n",
        "import cv2\n",
        "import numpy as np\n",
        "\n",
        "# 加载图像数据集\n",
        "dataset_path = \"test/\"\n",
        "image_files = os.listdir(dataset_path)\n",
        "image_files = [file for file in image_files if file.endswith(\".jpg\")]\n",
        "\n",
        "# 定义高斯滤波器参数\n",
        "kernel_size = (1, 1)\n",
        "sigma = 6.0\n",
        "\n",
        "# 定义连通域保留的数量\n",
        "num_to_keep = 7\n",
        "\n",
        "# 生成掩码图像\n",
        "for img_file in image_files:\n",
        "    img_path = dataset_path + \"/\" + img_file\n",
        "    img = cv2.imread(img_path)\n",
        "\n",
        "    # 进行高斯滤波\n",
        "    blurred = cv2.GaussianBlur(img, kernel_size, sigma)\n",
        "\n",
        "    # 将图像转换为灰度图像\n",
        "    gray = cv2.cvtColor(blurred, cv2.COLOR_BGR2GRAY)\n",
        "\n",
        "    # 使用Canny边缘检测\n",
        "    edges = cv2.Canny(gray, threshold1=20, threshold2=160)\n",
        "\n",
        "    # # 进行直方图均衡化\n",
        "    # equalized = cv2.equalizeHist(edges)\n",
        "\n",
        "    # 阈值分割\n",
        "    _, threshold_mask = cv2.threshold(edges, 190, 245, cv2.THRESH_BINARY)\n",
        "\n",
        "    # 进行直方图均衡化\n",
        "    equalized = cv2.equalizeHist(threshold_mask)\n",
        "\n",
        "    # 使用特征提取\n",
        "    features = cv2.cornerHarris(equalized, 2, 3, 0.004)\n",
        "    features = cv2.dilate(features, None)\n",
        "    feature_mask = np.zeros_like(equalized)\n",
        "    feature_mask[features > 0.00001 * features.max()] = 255\n",
        "\n",
        "    # 连通组件标记\n",
        "    _, labels, stats, _ = cv2.connectedComponentsWithStats(feature_mask, connectivity=8)\n",
        "\n",
        "    # 根据连通组件的面积进行排序\n",
        "    sorted_indices = np.argsort(stats[:, cv2.CC_STAT_AREA])[::-1]\n",
        "    print(sorted_indices)\n",
        "\n",
        "    # 创建一个全黑的掩码图像\n",
        "    mask = np.zeros_like(equalized)\n",
        "\n",
        "    # 保留指定数量的连通域\n",
        "    for i in range(1, num_to_keep + 1):\n",
        "        if i < len(sorted_indices):\n",
        "            label = sorted_indices[i]\n",
        "            mask[labels == label] = 255\n",
        "\n",
        "    # 计算mask的补集\n",
        "    mask_complement = cv2.bitwise_not(mask)\n",
        "\n",
        "    # 将补集与feature_mask进行按位与操作\n",
        "    subtracted_mask = cv2.bitwise_and(feature_mask, mask_complement)\n",
        "\n",
        "    # # 将不同方法得到的掩码图像合并\n",
        "    # combined_mask = cv2.bitwise_or(feature_mask, mask)\n",
        "\n",
        "    # 保存掩码图像\n",
        "    mask_filename = img_file\n",
        "    mask_path = \"combined_masks1/\" + mask_filename\n",
        "    cv2.imwrite(mask_path, subtracted_mask)\n",
        "\n",
        "    print(\"Mask image\", mask_filename, \"saved successfully.\")"
      ],
      "metadata": {
        "id": "6zn8Ns1ifHK5"
      },
      "execution_count": null,
      "outputs": []
    },
    {
      "cell_type": "markdown",
      "source": [
        "# 评价指标"
      ],
      "metadata": {
        "id": "bAW1G_igf1_-"
      }
    },
    {
      "cell_type": "code",
      "source": [
        "import os\n",
        "import numpy as np\n",
        "import cv2\n",
        "from sklearn.metrics import average_precision_score\n",
        "\n",
        "binarized_masks = []\n",
        "# for mask in masks:\n",
        "#     if mask is not None:  # 检查 mask 是否为 None\n",
        "#         binarized_mask = mask > threshold\n",
        "#         binarized_masks.append(binarized_mask)\n",
        "#     else:\n",
        "#         # 如果 mask 为 None，可以添加一个全 False 的占位符\n",
        "#         binarized_masks.append(np.zeros_like(mask, dtype=bool))\n",
        "\n",
        "def binarize_masks(masks, threshold=0.5):\n",
        "    binarized_masks = [mask > threshold for mask in masks]\n",
        "    return binarized_masks\n",
        "\n",
        "def calculate_iou(pred_mask, true_mask):\n",
        "    intersection = np.logical_and(pred_mask, true_mask).sum()\n",
        "    union = np.logical_or(pred_mask, true_mask).sum()\n",
        "    iou = intersection / union if union > 0 else 0.0\n",
        "    return iou\n",
        "\n",
        "# Load predicted masks from mask0 folder\n",
        "predicted_mask_folder = 'mask1/'  # orig_new1 combined_masks1\n",
        "predicted_mask_files = os.listdir(predicted_mask_folder)\n",
        "predicted_masks = [cv2.imread(os.path.join(predicted_mask_folder, file), cv2.IMREAD_GRAYSCALE) for file in predicted_mask_files]\n",
        "predicted_masks = binarize_masks(predicted_masks)\n",
        "print(predicted_masks)  # 打印读取的图像，检查是否成功读取\n",
        "\n",
        "# Load true masks from mask1 folder\n",
        "true_mask_folder = 'test_mask/'\n",
        "true_mask_files = os.listdir(true_mask_folder)\n",
        "true_masks = [cv2.imread(os.path.join(true_mask_folder, file), cv2.IMREAD_GRAYSCALE) for file in true_mask_files]\n",
        "true_masks = binarize_masks(true_masks)\n",
        "# print(true_masks)  # 打印读取的图像，检查是否成功读取\n",
        "\n",
        "# Initialize metrics\n",
        "num_classes = 2  # Assuming binary masks\n",
        "iou_scores = []\n",
        "precisions = []\n",
        "recalls = []\n",
        "f1_scores = []\n",
        "\n",
        "# Calculate IoU for each class and overall mIoU\n",
        "for class_idx in range(num_classes):\n",
        "    ious = []\n",
        "    class_true_positive = 0\n",
        "    class_false_positive = 0\n",
        "    class_false_negative = 0\n",
        "\n",
        "    for pred_mask, true_mask in zip(predicted_masks, true_masks):\n",
        "        iou = calculate_iou(pred_mask, true_mask)\n",
        "        ious.append(iou)\n",
        "\n",
        "        true_positive = np.logical_and(pred_mask, true_mask).sum()\n",
        "        false_positive = np.logical_and(pred_mask, ~true_mask).sum()\n",
        "        false_negative = np.logical_and(~pred_mask, true_mask).sum()\n",
        "\n",
        "        class_true_positive += true_positive\n",
        "        class_false_positive += false_positive\n",
        "        class_false_negative += false_negative\n",
        "\n",
        "    class_precision = class_true_positive / (class_true_positive + class_false_positive)\n",
        "    class_recall = class_true_positive / (class_true_positive + class_false_negative)\n",
        "    class_f1 = 2 * (class_precision * class_recall) / (class_precision + class_recall)\n",
        "\n",
        "    iou_scores.append(sum(ious) / len(ious))\n",
        "    precisions.append(class_precision)\n",
        "    recalls.append(class_recall)\n",
        "    f1_scores.append(class_f1)\n",
        "\n",
        "# Calculate mean metrics\n",
        "mean_iou = sum(iou_scores) / num_classes\n",
        "mean_precision = sum(precisions) / num_classes\n",
        "mean_recall = sum(recalls) / num_classes\n",
        "mean_f1 = sum(f1_scores) / num_classes\n",
        "\n",
        "# Calculate mAP (Average Precision)\n",
        "true_masks_stacked = np.stack(true_masks, axis=-1)\n",
        "predicted_masks_stacked = np.stack(predicted_masks, axis=-1)\n",
        "average_precisions = []\n",
        "for class_idx in range(num_classes):\n",
        "    true_class = true_masks_stacked[:, :, class_idx].flatten()\n",
        "    predicted_class = predicted_masks_stacked[:, :, class_idx].flatten()\n",
        "    average_precision = average_precision_score(true_class, predicted_class)\n",
        "    average_precisions.append(average_precision)\n",
        "mean_average_precision = sum(average_precisions) / num_classes\n",
        "\n",
        "# Print evaluation metrics\n",
        "print(f\"Mean Intersection over Union (mIoU): {mean_iou}\")\n",
        "print(f\"Mean Average Precision (mAP): {mean_average_precision}\")\n",
        "print(f\"Mean Precision: {mean_precision}\")\n",
        "print(f\"Mean Recall: {mean_recall}\")\n",
        "print(f\"Mean F1 Score: {mean_f1}\")"
      ],
      "metadata": {
        "id": "qm3EIoA_f3UB"
      },
      "execution_count": null,
      "outputs": []
    },
    {
      "cell_type": "markdown",
      "source": [
        "# 转换成黑白像素值的mask"
      ],
      "metadata": {
        "id": "Y8a7fQZreKwV"
      }
    },
    {
      "cell_type": "code",
      "source": [
        "import os\n",
        "import cv2\n",
        "import numpy as np\n",
        "\n",
        "# 设置文件夹路径\n",
        "orig_folder = \"orig/\"\n",
        "orig_new_folder = \"orig_new/\"\n",
        "\n",
        "# 确保目标文件夹存在\n",
        "os.makedirs(orig_new_folder, exist_ok=True)\n",
        "\n",
        "# 获取原始文件夹中的图像文件列表\n",
        "image_files = os.listdir(orig_folder)\n",
        "image_files = [file for file in image_files if file.endswith(\".jpg\")]\n",
        "\n",
        "# 遍历图像文件并进行处理\n",
        "for img_file in image_files:\n",
        "    img_path = os.path.join(orig_folder, img_file)\n",
        "    img = cv2.imread(img_path)\n",
        "\n",
        "    # 将像素值接近黑色的部分变为白色，其余部分变为黑色\n",
        "    mask_dark = np.all(img <= [125, 125, 125], axis=-1)\n",
        "    img[mask_dark] = [255, 255, 255]\n",
        "    img[~mask_dark] = [0, 0, 0]\n",
        "\n",
        "    # 调整图像尺寸为1280x720\n",
        "    img_resized = cv2.resize(img, (1280, 720))\n",
        "\n",
        "    # 保存处理后的图像到orig_new文件夹\n",
        "    new_img_path = os.path.join(orig_new_folder, img_file)\n",
        "    cv2.imwrite(new_img_path, img_resized)\n",
        "\n",
        "    print(\"Processed and resized image\", img_file, \"saved successfully.\")"
      ],
      "metadata": {
        "colab": {
          "base_uri": "https://localhost:8080/"
        },
        "id": "ySx_gWCxDiq4",
        "outputId": "b6806e81-74dd-42d7-c371-349ba78e3538"
      },
      "execution_count": null,
      "outputs": [
        {
          "output_type": "stream",
          "name": "stdout",
          "text": [
            "Processed and resized image P158.jpg saved successfully.\n",
            "Processed and resized image P073.jpg saved successfully.\n",
            "Processed and resized image P012.jpg saved successfully.\n",
            "Processed and resized image P146.jpg saved successfully.\n",
            "Processed and resized image P106.jpg saved successfully.\n",
            "Processed and resized image P152.jpg saved successfully.\n",
            "Processed and resized image P087.jpg saved successfully.\n",
            "Processed and resized image P067.jpg saved successfully.\n",
            "Processed and resized image P080.jpg saved successfully.\n",
            "Processed and resized image P154.jpg saved successfully.\n",
            "Processed and resized image Control.jpg saved successfully.\n",
            "Processed and resized image P135.jpg saved successfully.\n",
            "Processed and resized image P095.jpg saved successfully.\n"
          ]
        }
      ]
    },
    {
      "cell_type": "code",
      "source": [
        "import os\n",
        "import cv2\n",
        "import numpy as np\n",
        "\n",
        "# 设置文件夹路径\n",
        "orig_folder = \"predicted_masks2/\"\n",
        "orig_new_folder = \"predicted_masks2/\"\n",
        "\n",
        "# 确保目标文件夹存在\n",
        "os.makedirs(orig_new_folder, exist_ok=True)\n",
        "\n",
        "# 获取原始文件夹中的图像文件列表\n",
        "image_files = os.listdir(orig_folder)\n",
        "image_files = [file for file in image_files if file.endswith(\".jpg\")]\n",
        "\n",
        "# 遍历图像文件并进行处理\n",
        "for img_file in image_files:\n",
        "    img_path = os.path.join(orig_folder, img_file)\n",
        "    img = cv2.imread(img_path)\n",
        "\n",
        "    # 将像素值接近黑色的部分变为白色，其余部分变为黑色\n",
        "    mask_white = np.all(img >= [0, 0, 10], axis=-1)\n",
        "    img[mask_white] = [255, 255, 255]\n",
        "    img[~mask_white] = [0, 0, 0]\n",
        "\n",
        "    # 调整图像尺寸为1280x720\n",
        "    img_resized = cv2.resize(img, (1280, 720))\n",
        "\n",
        "    # 保存处理后的图像到orig_new文件夹\n",
        "    new_img_path = os.path.join(orig_new_folder, img_file)\n",
        "    cv2.imwrite(new_img_path, img_resized)\n",
        "\n",
        "    print(\"Processed and resized image\", img_file, \"saved successfully.\")"
      ],
      "metadata": {
        "colab": {
          "base_uri": "https://localhost:8080/"
        },
        "id": "fxPgZcs4eeEE",
        "outputId": "73ab93c7-11d2-433e-c020-acadc3b2e800"
      },
      "execution_count": null,
      "outputs": [
        {
          "output_type": "stream",
          "name": "stdout",
          "text": [
            "Processed and resized image P154.jpg saved successfully.\n",
            "Processed and resized image P158.jpg saved successfully.\n",
            "Processed and resized image P080.jpg saved successfully.\n",
            "Processed and resized image P012.jpg saved successfully.\n",
            "Processed and resized image P087.jpg saved successfully.\n",
            "Processed and resized image P095.jpg saved successfully.\n",
            "Processed and resized image P152.jpg saved successfully.\n",
            "Processed and resized image Control.jpg saved successfully.\n",
            "Processed and resized image P135.jpg saved successfully.\n",
            "Processed and resized image P073.jpg saved successfully.\n",
            "Processed and resized image P146.jpg saved successfully.\n",
            "Processed and resized image P106.jpg saved successfully.\n",
            "Processed and resized image P067.jpg saved successfully.\n"
          ]
        }
      ]
    },
    {
      "cell_type": "code",
      "source": [
        "import os\n",
        "import cv2\n",
        "import numpy as np\n",
        "\n",
        "# 设置文件夹路径\n",
        "orig_folder = \"orig\"\n",
        "orig_new_folder = \"orig_new\"\n",
        "\n",
        "# 确保目标文件夹存在\n",
        "os.makedirs(orig_new_folder, exist_ok=True)\n",
        "\n",
        "# 获取原始文件夹中的图像文件列表\n",
        "image_files = os.listdir(orig_folder)\n",
        "image_files = [file for file in image_files if file.endswith(\".jpg\")]\n",
        "\n",
        "# 遍历图像文件并进行处理\n",
        "for img_file in image_files:\n",
        "    img_path = os.path.join(orig_folder, img_file)\n",
        "    img = cv2.imread(img_path)\n",
        "\n",
        "    # 将像素值接近黑色的部分变为白色，其余部分变为黑色\n",
        "    mask_dark = np.all(img <= [30, 30, 30], axis=-1)\n",
        "    img[mask_dark] = [255, 255, 255]\n",
        "    img[~mask_dark] = [0, 0, 0]\n",
        "\n",
        "    # 保存处理后的图像到orig_new文件夹\n",
        "    new_img_path = os.path.join(orig_new_folder, img_file)\n",
        "    cv2.imwrite(new_img_path, img)\n",
        "\n",
        "    print(\"Processed image\", img_file, \"saved successfully.\")"
      ],
      "metadata": {
        "id": "BCaHsfW2ASTD"
      },
      "execution_count": null,
      "outputs": []
    },
    {
      "cell_type": "markdown",
      "source": [
        "# 下载文件"
      ],
      "metadata": {
        "id": "DiiwR_qcUgw7"
      }
    },
    {
      "cell_type": "code",
      "source": [
        "import shutil\n",
        "\n",
        "# 指定要下载的文件夹路径\n",
        "mask_folder_path = \"UNet-image001_new\"  # 根据你实际的文件夹路径进行修改\n",
        "\n",
        "# 指定zip文件名\n",
        "zip_file_name = \"UNet-image001_new.zip\"\n",
        "\n",
        "# 将文件夹打包成zip文件\n",
        "shutil.make_archive(\"UNet-image001_new\", 'zip', mask_folder_path)"
      ],
      "metadata": {
        "colab": {
          "base_uri": "https://localhost:8080/",
          "height": 35
        },
        "id": "YJyeluu9NQRs",
        "outputId": "8164278b-809d-4d2c-e95b-952db7d7ca5c"
      },
      "execution_count": null,
      "outputs": [
        {
          "output_type": "execute_result",
          "data": {
            "text/plain": [
              "'/content/UNet-image001_new.zip'"
            ],
            "application/vnd.google.colaboratory.intrinsic+json": {
              "type": "string"
            }
          },
          "metadata": {},
          "execution_count": 38
        }
      ]
    },
    {
      "cell_type": "code",
      "source": [
        "from google.colab import files\n",
        "\n",
        "# 下载zip文件\n",
        "files.download(zip_file_name)"
      ],
      "metadata": {
        "colab": {
          "base_uri": "https://localhost:8080/",
          "height": 17
        },
        "id": "KRUTL9xfNaaU",
        "outputId": "26ff2334-5b10-44cf-9da9-da8d9f9ceea3"
      },
      "execution_count": null,
      "outputs": [
        {
          "output_type": "display_data",
          "data": {
            "text/plain": [
              "<IPython.core.display.Javascript object>"
            ],
            "application/javascript": [
              "\n",
              "    async function download(id, filename, size) {\n",
              "      if (!google.colab.kernel.accessAllowed) {\n",
              "        return;\n",
              "      }\n",
              "      const div = document.createElement('div');\n",
              "      const label = document.createElement('label');\n",
              "      label.textContent = `Downloading \"${filename}\": `;\n",
              "      div.appendChild(label);\n",
              "      const progress = document.createElement('progress');\n",
              "      progress.max = size;\n",
              "      div.appendChild(progress);\n",
              "      document.body.appendChild(div);\n",
              "\n",
              "      const buffers = [];\n",
              "      let downloaded = 0;\n",
              "\n",
              "      const channel = await google.colab.kernel.comms.open(id);\n",
              "      // Send a message to notify the kernel that we're ready.\n",
              "      channel.send({})\n",
              "\n",
              "      for await (const message of channel.messages) {\n",
              "        // Send a message to notify the kernel that we're ready.\n",
              "        channel.send({})\n",
              "        if (message.buffers) {\n",
              "          for (const buffer of message.buffers) {\n",
              "            buffers.push(buffer);\n",
              "            downloaded += buffer.byteLength;\n",
              "            progress.value = downloaded;\n",
              "          }\n",
              "        }\n",
              "      }\n",
              "      const blob = new Blob(buffers, {type: 'application/binary'});\n",
              "      const a = document.createElement('a');\n",
              "      a.href = window.URL.createObjectURL(blob);\n",
              "      a.download = filename;\n",
              "      div.appendChild(a);\n",
              "      a.click();\n",
              "      div.remove();\n",
              "    }\n",
              "  "
            ]
          },
          "metadata": {}
        },
        {
          "output_type": "display_data",
          "data": {
            "text/plain": [
              "<IPython.core.display.Javascript object>"
            ],
            "application/javascript": [
              "download(\"download_0f954442-b0b2-40bb-a442-10c7443a8578\", \"UNet-image001_new.zip\", 4714513)"
            ]
          },
          "metadata": {}
        }
      ]
    },
    {
      "cell_type": "markdown",
      "source": [
        "# 重新写评价指标"
      ],
      "metadata": {
        "id": "_8OvPlpCMTxF"
      }
    },
    {
      "cell_type": "code",
      "source": [
        "import os\n",
        "import cv2\n",
        "import numpy as np\n",
        "\n",
        "# 设置文件夹路径\n",
        "orig_folder = \"UNet-image/\"\n",
        "orig_new_folder = \"UNet-image_new/\"\n",
        "\n",
        "# 确保目标文件夹存在\n",
        "os.makedirs(orig_new_folder, exist_ok=True)\n",
        "\n",
        "# 获取原始文件夹中的图像文件列表\n",
        "image_files = os.listdir(orig_folder)\n",
        "image_files = [file for file in image_files if file.endswith(\".jpg\")]\n",
        "\n",
        "# 遍历图像文件并进行处理\n",
        "for img_file in image_files:\n",
        "    img_path = os.path.join(orig_folder, img_file)\n",
        "    img = cv2.imread(img_path)\n",
        "\n",
        "    # 将像素值接近黑色的部分变为白色，其余部分变为黑色\n",
        "    mask_dark = np.all(img <= [125, 125, 125], axis=-1)\n",
        "    img[mask_dark] = [255, 255, 255]\n",
        "    img[~mask_dark] = [0, 0, 0]\n",
        "\n",
        "    # 调整图像尺寸为1280x720\n",
        "    img_resized = cv2.resize(img, (1280, 720))\n",
        "\n",
        "    # 保存处理后的图像到orig_new文件夹\n",
        "    new_img_path = os.path.join(orig_new_folder, img_file)\n",
        "    cv2.imwrite(new_img_path, img_resized)\n",
        "\n",
        "    print(\"Processed and resized image\", img_file, \"saved successfully.\")"
      ],
      "metadata": {
        "colab": {
          "base_uri": "https://localhost:8080/"
        },
        "id": "JQmYfF-KPtM8",
        "outputId": "a96d534a-2adf-41f3-fc83-15794c4aefde"
      },
      "execution_count": null,
      "outputs": [
        {
          "output_type": "stream",
          "name": "stdout",
          "text": [
            "Processed and resized image P154.jpg saved successfully.\n",
            "Processed and resized image P158.jpg saved successfully.\n",
            "Processed and resized image P080.jpg saved successfully.\n",
            "Processed and resized image P012.jpg saved successfully.\n",
            "Processed and resized image P087.jpg saved successfully.\n",
            "Processed and resized image P095.jpg saved successfully.\n",
            "Processed and resized image P152.jpg saved successfully.\n",
            "Processed and resized image Control.jpg saved successfully.\n",
            "Processed and resized image P135.jpg saved successfully.\n",
            "Processed and resized image P073.jpg saved successfully.\n",
            "Processed and resized image P146.jpg saved successfully.\n",
            "Processed and resized image P106.jpg saved successfully.\n",
            "Processed and resized image P067.jpg saved successfully.\n"
          ]
        }
      ]
    },
    {
      "cell_type": "code",
      "source": [
        "import os\n",
        "import cv2\n",
        "import numpy as np\n",
        "\n",
        "# 设置文件夹路径\n",
        "orig_folder = \"UNet-image001/\"\n",
        "orig_new_folder = \"UNet-image001_new/\"\n",
        "\n",
        "# 确保目标文件夹存在\n",
        "os.makedirs(orig_new_folder, exist_ok=True)\n",
        "\n",
        "# 获取原始文件夹中的图像文件列表\n",
        "image_files = os.listdir(orig_folder)\n",
        "image_files = [file for file in image_files if file.endswith(\".jpg\")]\n",
        "\n",
        "# 遍历图像文件并进行处理\n",
        "for img_file in image_files:\n",
        "    img_path = os.path.join(orig_folder, img_file)\n",
        "    img = cv2.imread(img_path)\n",
        "\n",
        "    # 调整图像尺寸为1280x720\n",
        "    img_resized = cv2.resize(img, (1280, 720))\n",
        "\n",
        "    # 保存处理后的图像到orig_new文件夹\n",
        "    new_img_path = os.path.join(orig_new_folder, img_file)\n",
        "    cv2.imwrite(new_img_path, img_resized)\n",
        "\n",
        "    print(\"Processed and resized image\", img_file, \"saved successfully.\")"
      ],
      "metadata": {
        "colab": {
          "base_uri": "https://localhost:8080/"
        },
        "id": "CZvQtENhoj4G",
        "outputId": "d14cdc79-8e50-4b39-abb8-bca6d90867e3"
      },
      "execution_count": null,
      "outputs": [
        {
          "output_type": "stream",
          "name": "stdout",
          "text": [
            "Processed and resized image P154.jpg saved successfully.\n",
            "Processed and resized image P158.jpg saved successfully.\n",
            "Processed and resized image P080.jpg saved successfully.\n",
            "Processed and resized image P012.jpg saved successfully.\n",
            "Processed and resized image P087.jpg saved successfully.\n",
            "Processed and resized image P095.jpg saved successfully.\n",
            "Processed and resized image P152.jpg saved successfully.\n",
            "Processed and resized image Control.jpg saved successfully.\n",
            "Processed and resized image P135.jpg saved successfully.\n",
            "Processed and resized image P073.jpg saved successfully.\n",
            "Processed and resized image P146.jpg saved successfully.\n",
            "Processed and resized image P106.jpg saved successfully.\n",
            "Processed and resized image P067.jpg saved successfully.\n"
          ]
        }
      ]
    },
    {
      "cell_type": "code",
      "source": [
        "import os\n",
        "import numpy as np\n",
        "import cv2\n",
        "from sklearn.metrics import average_precision_score\n",
        "\n",
        "def binarize_masks(masks, threshold=0):\n",
        "    binarized_masks = [mask > threshold for mask in masks]\n",
        "    return binarized_masks\n",
        "\n",
        "def calculate_iou(pred_mask, true_mask):\n",
        "    intersection = np.logical_and(pred_mask, true_mask).sum()\n",
        "    union = np.logical_or(pred_mask, true_mask).sum()\n",
        "    iou = intersection / union if union > 0 else 0.0\n",
        "    return iou\n",
        "\n",
        "# Load predicted masks from mask0 folder\n",
        "predicted_mask_folder = 'UNet-image001_new/' #mask1 orig_new combined_masks1/ tuned_image_new/\n",
        "predicted_mask_files = os.listdir(predicted_mask_folder)\n",
        "predicted_masks = [cv2.imread(os.path.join(predicted_mask_folder, file), cv2.IMREAD_GRAYSCALE) for file in predicted_mask_files]\n",
        "predicted_masks = binarize_masks(predicted_masks)\n",
        "\n",
        "# Load true masks from mask1 folder\n",
        "true_mask_folder = 'test_mask/'\n",
        "true_mask_files = os.listdir(true_mask_folder)\n",
        "true_masks = [cv2.imread(os.path.join(true_mask_folder, file), cv2.IMREAD_GRAYSCALE) for file in true_mask_files]\n",
        "true_masks = binarize_masks(true_masks)\n",
        "\n",
        "# Initialize metrics\n",
        "num_classes = 2  # Assuming binary masks\n",
        "iou_scores = []\n",
        "dices = []\n",
        "precisions = []\n",
        "recalls = []\n",
        "f1_scores = []\n",
        "average_precisions = []\n",
        "\n",
        "# Calculate metrics\n",
        "for class_idx in range(num_classes):\n",
        "    ious = []\n",
        "    dices = []\n",
        "    class_true_positive = 0\n",
        "    class_false_positive = 0\n",
        "    class_false_negative = 0\n",
        "\n",
        "    for pred_mask, true_mask in zip(predicted_masks, true_masks):\n",
        "        iou = calculate_iou(pred_mask, true_mask)\n",
        "        ious.append(iou)\n",
        "\n",
        "        dice = 2 * np.logical_and(pred_mask, true_mask).sum() / (pred_mask.sum() + true_mask.sum() + 1e-5)\n",
        "        dices.append(dice)\n",
        "\n",
        "        true_positive = np.logical_and(pred_mask, true_mask).sum()\n",
        "        false_positive = np.logical_and(pred_mask, ~true_mask).sum()\n",
        "        false_negative = np.logical_and(~pred_mask, true_mask).sum()\n",
        "\n",
        "        class_true_positive += true_positive\n",
        "        class_false_positive += false_positive\n",
        "        class_false_negative += false_negative\n",
        "\n",
        "    class_precision = class_true_positive / (class_true_positive + class_false_positive)\n",
        "    class_recall = class_true_positive / (class_true_positive + class_false_negative)\n",
        "    class_f1 = 2 * (class_precision * class_recall) / (class_precision + class_recall)\n",
        "\n",
        "    iou_scores.append(sum(ious) / len(ious))\n",
        "    precisions.append(class_precision)\n",
        "    recalls.append(class_recall)\n",
        "    f1_scores.append(class_f1)\n",
        "\n",
        "    # Calculate Average Precision (AP) for each class\n",
        "    true_masks_stacked = np.stack(true_masks, axis=-1)\n",
        "    predicted_masks_stacked = np.stack(predicted_masks, axis=-1)\n",
        "    for class_idx in range(num_classes):\n",
        "        true_class = true_masks_stacked[:, :, class_idx].flatten()\n",
        "        predicted_class = predicted_masks_stacked[:, :, class_idx].flatten()\n",
        "        average_precision = average_precision_score(true_class, predicted_class)\n",
        "        average_precisions.append(average_precision)\n",
        "\n",
        "# Calculate mean metrics\n",
        "mean_iou = sum(iou_scores) / num_classes\n",
        "mean_dice = np.mean(dices)\n",
        "mean_precision = sum(precisions) / num_classes\n",
        "mean_recall = sum(recalls) / num_classes\n",
        "mean_f1 = sum(f1_scores) / num_classes\n",
        "mean_average_precision = sum(average_precisions) / num_classes\n",
        "\n",
        "# Print evaluation metrics\n",
        "print(f\"Mean Intersection over Union (mIoU): {mean_iou}\")\n",
        "print(f\"Mean Dice Coefficient: {mean_dice}\")\n",
        "print(f\"Mean Precision: {mean_precision}\")\n",
        "print(f\"Mean Recall: {mean_recall}\")\n",
        "print(f\"Mean F1 Score: {mean_f1}\")\n",
        "print(f\"Mean Average Precision (mAP): {mean_average_precision}\")"
      ],
      "metadata": {
        "colab": {
          "base_uri": "https://localhost:8080/"
        },
        "id": "9FT4CZelMWvZ",
        "outputId": "18d7f765-fa77-4cbe-bd30-3d7bb7848192"
      },
      "execution_count": null,
      "outputs": [
        {
          "output_type": "stream",
          "name": "stdout",
          "text": [
            "Mean Intersection over Union (mIoU): 0.080487155085578\n",
            "Mean Dice Coefficient: 0.09934336711083357\n",
            "Mean Precision: 0.09312831793486062\n",
            "Mean Recall: 0.877685031231744\n",
            "Mean F1 Score: 0.16838938340801637\n",
            "Mean Average Precision (mAP): 0.0429063961564726\n"
          ]
        }
      ]
    },
    {
      "cell_type": "code",
      "source": [
        "import os\n",
        "import cv2\n",
        "import numpy as np\n",
        "from skimage.measure import label, regionprops\n",
        "\n",
        "# Create the output folder if it doesn't exist\n",
        "output_folder = 'UNet-image01_new_new'\n",
        "os.makedirs(output_folder, exist_ok=True)\n",
        "\n",
        "# Define the minimum area threshold for removing small connected components\n",
        "min_area_threshold = 1000\n",
        "\n",
        "# Iterate through the images in the test folder\n",
        "for image_filename in os.listdir('UNet-image01_new'):\n",
        "    if image_filename.endswith('.jpg'):\n",
        "        # Read the image\n",
        "        image_path = os.path.join('UNet-image01_new', image_filename)\n",
        "        image = cv2.imread(image_path, cv2.IMREAD_COLOR)\n",
        "\n",
        "        # Convert the image to grayscale\n",
        "        gray_image = cv2.cvtColor(image, cv2.COLOR_BGR2GRAY)\n",
        "\n",
        "        # Threshold the grayscale image to get the binary mask of white areas\n",
        "        _, binary_mask = cv2.threshold(gray_image, 200, 255, cv2.THRESH_BINARY)\n",
        "\n",
        "        # Label connected components in the binary mask\n",
        "        labeled_mask, num_labels = label(binary_mask, connectivity=2, return_num=True)\n",
        "\n",
        "        # Create an array to store the new labeled mask\n",
        "        new_labeled_mask = np.zeros_like(labeled_mask)\n",
        "\n",
        "        # Iterate through the labeled components\n",
        "        for label_idx in range(1, num_labels + 1):\n",
        "            # Get the region properties for the current component\n",
        "            props = regionprops(labeled_mask)\n",
        "\n",
        "            # Check the area of the current component\n",
        "            if props[label_idx - 1].area >= min_area_threshold:\n",
        "                # Copy the pixels of the valid component to the new labeled mask\n",
        "                new_labeled_mask[labeled_mask == label_idx] = label_idx\n",
        "\n",
        "        # Create the new image with removed small components\n",
        "        new_image = np.where(new_labeled_mask > 0, 255, 0).astype(np.uint8)\n",
        "\n",
        "        # Save the new image to the output folder\n",
        "        new_image_path = os.path.join(output_folder, image_filename)\n",
        "        cv2.imwrite(new_image_path, new_image)\n",
        "\n",
        "print(\"Images with small connected components removed have been saved to 'test_new' folder.\")"
      ],
      "metadata": {
        "colab": {
          "base_uri": "https://localhost:8080/"
        },
        "id": "N2MUgwNsYWPm",
        "outputId": "cbd8104a-eb7e-4eff-858d-08548564d6ca"
      },
      "execution_count": null,
      "outputs": [
        {
          "output_type": "stream",
          "name": "stdout",
          "text": [
            "Images with small connected components removed have been saved to 'test_new' folder.\n"
          ]
        }
      ]
    }
  ]
}